{
 "metadata": {
  "name": "",
  "signature": "sha256:85df0fc94fc4635a6e5ff492b47171d902e6302afab1b362a6d0272e085fd392"
 },
 "nbformat": 3,
 "nbformat_minor": 0,
 "worksheets": [
  {
   "cells": [
    {
     "cell_type": "markdown",
     "metadata": {},
     "source": [
      "[Table of Contents](http://nbviewer.ipython.org/github/rlabbe/Kalman-and-Bayesian-Filters-in-Python/blob/master/table_of_contents.ipynb)"
     ]
    },
    {
     "cell_type": "heading",
     "level": 1,
     "metadata": {},
     "source": [
      "Kalman Filter Math"
     ]
    },
    {
     "cell_type": "code",
     "collapsed": false,
     "input": [
      "#format the book\n",
      "%matplotlib inline\n",
      "from __future__ import division, print_function\n",
      "import matplotlib.pyplot as plt\n",
      "import sys\n",
      "sys.path.insert(0, '../code') # allow us to format the book\n",
      "import book_format\n",
      "book_format.load_style()"
     ],
     "language": "python",
     "metadata": {},
     "outputs": [
      {
       "html": [
        "<style>\n",
        "@import url('http://fonts.googleapis.com/css?family=Source+Code+Pro');\n",
        "@import url('http://fonts.googleapis.com/css?family=Vollkorn');\n",
        "@import url('http://fonts.googleapis.com/css?family=Arimo');\n",
        "\n",
        "    div.cell{\n",
        "        width: 850px;\n",
        "        margin-left: 0% !important;\n",
        "        margin-right: auto;\n",
        "    }\n",
        "    div.text_cell code {\n",
        "        background: transparent;\n",
        "        color: #000000;\n",
        "        font-weight: 600;\n",
        "        font-size: 11pt;\n",
        "        font-style: bold;\n",
        "        font-family:  'Source Code Pro', Consolas, monocco, monospace;\n",
        "   }\n",
        "    h1 {\n",
        "        font-family: 'Open sans',verdana,arial,sans-serif;\n",
        "\t}\n",
        "\t\n",
        "    div.input_area {\n",
        "        background: #F6F6F9;\n",
        "        border: 1px solid #586e75;\n",
        "    }\n",
        "\n",
        "    .text_cell_render h1 {\n",
        "        font-weight: 200;\n",
        "        font-size: 30pt;\n",
        "        line-height: 100%;\n",
        "        color:#c76c0c;\n",
        "        margin-bottom: 0.5em;\n",
        "        margin-top: 1em;\n",
        "        display: block;\n",
        "        white-space: wrap;\n",
        "    } \n",
        "    h2 {\n",
        "        font-family: 'Open sans',verdana,arial,sans-serif;\n",
        "    }\n",
        "    .text_cell_render h2 {\n",
        "        font-weight: 200;\n",
        "        font-size: 20pt;\n",
        "        font-style: italic;\n",
        "        line-height: 100%;\n",
        "        color:#c76c0c;\n",
        "        margin-bottom: 0.5em;\n",
        "        margin-top: 1.5em;\n",
        "        display: block;\n",
        "        white-space: nowrap;\n",
        "    } \n",
        "    h3 {\n",
        "        font-family: 'Open sans',verdana,arial,sans-serif;\n",
        "    }\n",
        "    .text_cell_render h3 {\n",
        "        font-weight: 300;\n",
        "        font-size: 18pt;\n",
        "        line-height: 100%;\n",
        "        color:#d77c0c;\n",
        "        margin-bottom: 0.5em;\n",
        "        margin-top: 2em;\n",
        "        display: block;\n",
        "        white-space: nowrap;\n",
        "    }\n",
        "    h4 {\n",
        "        font-family: 'Open sans',verdana,arial,sans-serif;\n",
        "    }\n",
        "    .text_cell_render h4 {\n",
        "        font-weight: 300;\n",
        "        font-size: 16pt;\n",
        "        color:#d77c0c;\n",
        "        margin-bottom: 0.5em;\n",
        "        margin-top: 0.5em;\n",
        "        display: block;\n",
        "        white-space: nowrap;\n",
        "    }\n",
        "    h5 {\n",
        "        font-family: 'Open sans',verdana,arial,sans-serif;\n",
        "    }\n",
        "    .text_cell_render h5 {\n",
        "        font-weight: 300;\n",
        "        font-style: normal;\n",
        "        color: #1d3b84;\n",
        "        font-size: 16pt;\n",
        "        margin-bottom: 0em;\n",
        "        margin-top: 1.5em;\n",
        "        display: block;\n",
        "        white-space: nowrap;\n",
        "    }\n",
        "    div.text_cell_render{\n",
        "        font-family: 'Arimo',verdana,arial,sans-serif;\n",
        "        line-height: 135%;\n",
        "        font-size: 125%;\n",
        "        width:750px;\n",
        "        margin-left:auto;\n",
        "        margin-right:auto;\n",
        "        text-align:justify;\n",
        "        text-justify:inter-word;\n",
        "    }\n",
        "    div.output_subarea.output_text.output_pyout {\n",
        "        overflow-x: auto;\n",
        "        overflow-y: scroll;\n",
        "        max-height: 50000px;\n",
        "    }\n",
        "    div.output_subarea.output_stream.output_stdout.output_text {\n",
        "        overflow-x: auto;\n",
        "        overflow-y: scroll;\n",
        "        max-height: 50000px;\n",
        "    }\n",
        "    code{\n",
        "      font-size: 70%;\n",
        "    }\n",
        "    .rendered_html code{\n",
        "    background-color: transparent;\n",
        "    }\n",
        "    ul{\n",
        "        margin: 2em;\n",
        "    }\n",
        "    ul li{\n",
        "        padding-left: 0.5em; \n",
        "        margin-bottom: 0.5em; \n",
        "        margin-top: 0.5em; \n",
        "    }\n",
        "    ul li li{\n",
        "        padding-left: 0.2em; \n",
        "        margin-bottom: 0.2em; \n",
        "        margin-top: 0.2em; \n",
        "    }\n",
        "    ol{\n",
        "        margin: 2em;\n",
        "    }\n",
        "    ol li{\n",
        "        padding-left: 0.5em; \n",
        "        margin-bottom: 0.5em; \n",
        "        margin-top: 0.5em; \n",
        "    }\n",
        "    ul li{\n",
        "        padding-left: 0.5em; \n",
        "        margin-bottom: 0.5em; \n",
        "        margin-top: 0.2em; \n",
        "    }\n",
        "    a:link{\n",
        "       font-weight: bold;\n",
        "       color:#447adb;\n",
        "    }\n",
        "    a:visited{\n",
        "       font-weight: bold;\n",
        "       color: #1d3b84;\n",
        "    }\n",
        "    a:hover{\n",
        "       font-weight: bold;\n",
        "       color: #1d3b84;\n",
        "    }\n",
        "    a:focus{\n",
        "       font-weight: bold;\n",
        "       color:#447adb;\n",
        "    }\n",
        "    a:active{\n",
        "       font-weight: bold;\n",
        "       color:#447adb;\n",
        "    }\n",
        "    .rendered_html :link {\n",
        "       text-decoration: underline; \n",
        "    }\n",
        "    .rendered_html :hover {\n",
        "       text-decoration: none; \n",
        "    }\n",
        "    .rendered_html :visited {\n",
        "      text-decoration: none;\n",
        "    }\n",
        "    .rendered_html :focus {\n",
        "      text-decoration: none;\n",
        "    }\n",
        "    .rendered_html :active {\n",
        "      text-decoration: none;\n",
        "    }\n",
        "    .warning{\n",
        "        color: rgb( 240, 20, 20 )\n",
        "    } \n",
        "    hr {\n",
        "      color: #f3f3f3;\n",
        "      background-color: #f3f3f3;\n",
        "      height: 1px;\n",
        "    }\n",
        "    blockquote{\n",
        "      display:block;\n",
        "      background: #fcfcfc;\n",
        "      border-left: 5px solid #c76c0c;\n",
        "      font-family: 'Open sans',verdana,arial,sans-serif;\n",
        "      width:680px;\n",
        "      padding: 10px 10px 10px 10px;\n",
        "      text-align:justify;\n",
        "      text-justify:inter-word;\n",
        "      }\n",
        "      blockquote p {\n",
        "        margin-bottom: 0;\n",
        "        line-height: 125%;\n",
        "        font-size: 100%;\n",
        "      }\n",
        "</style>\n",
        "<script>\n",
        "    MathJax.Hub.Config({\n",
        "                        TeX: {\n",
        "                           extensions: [\"AMSmath.js\"]\n",
        "                           },\n",
        "                tex2jax: {\n",
        "                    inlineMath: [ ['$','$'], [\"\\\\(\",\"\\\\)\"] ],\n",
        "                    displayMath: [ ['$$','$$'], [\"\\\\[\",\"\\\\]\"] ]\n",
        "                },\n",
        "                displayAlign: 'center', // Change this to 'center' to center equations.\n",
        "                \"HTML-CSS\": {\n",
        "                    styles: {'.MathJax_Display': {\"margin\": 4}}\n",
        "                }\n",
        "        });\n",
        "</script>\n"
       ],
       "metadata": {},
       "output_type": "pyout",
       "prompt_number": 1,
       "text": [
        "<IPython.core.display.HTML at 0x7f9d3d7a04e0>"
       ]
      }
     ],
     "prompt_number": 1
    },
    {
     "cell_type": "markdown",
     "metadata": {},
     "source": [
      "** author's note:** *the ordering of material in this chapter is questionable. I delve into solving ODEs before discussing the basic Kalman equations. If you are reading this while it is being worked on (so long as this notice exists), you may find it easier to skip around a bit until I organize it better.*\n",
      "\n",
      "\n",
      "If you've gotten this far I hope that you are thinking that the Kalman filter's fearsome reputation is somewhat undeserved. Sure, I hand waved some equations away, but I hope implementation has been fairly straightforward for you. The underlying concept is quite straightforward - take two measurements, or a measurement and a prediction, and choose the output to be somewhere between the two. If you believe the measurement more your guess will be closer to the measurement, and if you believe the prediction is more accurate your guess will lie closer it it. That's not rocket science (little joke - it is exactly this math that got Apollo to the moon and back!). \n",
      "\n",
      "Well, to be honest I have been choosing my problems carefully. For any arbitrary problem finding some of the matrices that we need to feed into the Kalman filter equations can be quite difficult. I haven't been *too tricky*, though. Equations like Newton's equations of motion can be trivially computed for Kalman filter applications, and they make up the bulk of the kind of problems that we want to solve. If you are a hobbyist, you can safely pass by this chapter for now, and perhaps forever. Some of the later chapters will assume the material in this chapter, but much of the work will still be accessible to you. \n",
      "\n",
      "But, I urge everyone to at least read the first section, and to skim the rest. It is not much harder than what you have done - the difficulty comes in finding closed form expressions for specific problems, not understanding the math in this chapter. \n"
     ]
    },
    {
     "cell_type": "heading",
     "level": 2,
     "metadata": {},
     "source": [
      "Modeling a Dynamic System that Has Noise"
     ]
    },
    {
     "cell_type": "markdown",
     "metadata": {},
     "source": [
      "We need to start by understanding the underlying equations and assumptions that the Kalman filter uses. We are trying to model real world phenomena, so what do we have to consider?\n",
      "\n",
      "First, each physical system has a process. For example, a car traveling at a certain velocity goes so far in a fixed amount of time, and it's velocity varies as a function of its acceleration. We describe that behavior with the well known Newtonian equations we learned in high school.\n",
      "\n",
      "\n",
      "$$\n",
      "\\begin{aligned}\n",
      "v&=at\\\\\n",
      "x &= \\frac{1}{2}at_2 + v_0t + d_0\n",
      "\\end{aligned}\n",
      "$$\n",
      "\n",
      "And once we learned calculus we saw them in this form:\n",
      "\n",
      "$$\n",
      "\\begin{aligned}\n",
      " \\mathbf{v} &= \\frac{d \\mathbf{x}}{d t}\\\\ \n",
      " \\quad \\mathbf{a} &= \\frac{d \\mathbf{v}}{d t}\\\\\n",
      " &= \\frac{d^2 \\mathbf{x}}{d t^2} \\,\\!\n",
      "\\end{aligned}\n",
      " $$\n",
      " \n",
      "A typical problem would have you compute the distance travelled given a constant velocity or acceleration. But, of course we know this is not all that is happening. First, we do not have perfect measures of things like the velocity and acceleration - there is always noise in the measurements, and we have to model that. Second, no car travels on a perfect road. There are bumps that cause the car to slow down, there is wind drag, there are hills that raise and lower the speed. If we do not have explicit knowledge of these factors we lump them all together under the term \"process noise\".\n",
      "\n",
      "Trying to model all of those factors explicitly and exactly is impossible for anything but the most trivial problem. I could try to include equations for things like bumps in the road, the behavior of the car's suspension system, even the effects of hitting bugs with the windshield, but the job would never be done - there would always be more effects to add and limits to our knowledge (how many bugs do we hit in an hour, for example). What is worse, each of those models would in themselves be a simplification - do I assume the wind is constant, that the drag of the car is the same for all angles of the wind, that the suspension act as perfect springs, that the suspension for each wheel acts identically, and so on.\n",
      "\n",
      "So control theory makes a mathematically correct simplification. We acknowledge that there are many factors that influence the system that we either do not know or that we don't want to have to model. At any time $t$ we say that the actual value (say, the position of our car) is the predicted value plus some unknown process noise:\n",
      "\n",
      "$$\n",
      "x(t) = x_{pred}(t) + noise(t)\n",
      "$$\n",
      "\n",
      "This is not meant to imply that $noise(t)$ is a function that we can derive analytically or that it is well behaved. If there is a bump in the road at $t=10$ then the noise factor will just incorporate that effect. Again, this is not implying that we model, compute, or even know the value of *noise(t)*, it is merely a statement of fact - we can *always* describe the actual value as the predicted value from our idealized model plus some other value. \n",
      "\n",
      "Let's express this with linear algebra. Using the same notation from previous chapters, we can say that our model of the system (without noise) is:\n",
      "\n",
      "$$ f(\\mathbf{x}) = \\mathbf{Fx}$$\n",
      "\n",
      "That is, we have a set of linear equations that describe our system. For our car, \n",
      "$\\mathbf{F}$ will be the coefficients for Newton's equations of motion. \n",
      "\n",
      "Now we need to model the noise. We will just call that *w*, and add it to the equation.\n",
      "\n",
      "$$ f(\\mathbf{x}) = \\mathbf{Fx} + \\mathbf{w}$$\n",
      "\n",
      "Finally, we need to consider inputs into the system. We are dealing with linear problems here, so we will assume that there is some input $u$ into the system, and that we have some linear model that defines how that input changes the system. For example, if you press down on the accelerator in your car the car will accelerate. We will need a matrix $\\mathbf{B}$ to convert $u$ into the effect on the system. We just add that into our equation:\n",
      "\n",
      "$$ f(\\mathbf{x}) = \\mathbf{Fx} + \\mathbf{Bu} + \\mathbf{w}$$\n",
      "\n",
      "And that's it. That is the equation that Kalman set out to solve, and he found a way to compute an optimal solution if we assume certain properties of $w$.\n",
      "\n",
      "However, we took advantage of something I left mostly unstated in the last chapter. We were able to provide a definition for $\\mathbf{F}$ because we were able to take advantage of the exact solution that Newtonian equations provide us. However, if you have an engineering background you will realize what a small class of problems that covers.If you don't, I will explain it next, and provide you with several ways to compute $\\mathbf{F}$ for arbitrary systems."
     ]
    },
    {
     "cell_type": "heading",
     "level": 2,
     "metadata": {},
     "source": [
      "Modelling Dynamic Systems"
     ]
    },
    {
     "cell_type": "markdown",
     "metadata": {},
     "source": [
      "Modelling dynamic systems is properly the topic of at least one undergraduate course in mathmatics; I took several. However, I can present enough of the theory to allow us to create the system equations for many different Kalman filters, and give you enough background to at least follow the mathematics in the literature. My goal is to get you to the stage where you can read Brown, Zarchan, Bar-Shalom, or any other book and understand them well enough to implement the algorithms. Even without reading those books, you should be able to design many common forms of Filters by following the examples. \n",
      "\n",
      "We model dynamic systems with a set of differential equations. For example, we already presented the Newtonian equation\n",
      "\n",
      "$$\\mathbf{v}=\\dot{\\mathbf{x}}$$\n",
      "\n",
      "where $\\dot{\\mathbf{x}}$ is the notation for the derivative of $\\mathbf{x}$ with respect to t, or $\\frac{d \\mathbf{x}}{d t}$.\n",
      "\n",
      "In general terms we can then say that a dynamic system consists of equations of the form\n",
      "\n",
      "$$ g(t) = \\dot{x}$$\n",
      "\n",
      "if the behaviour of the system depends on time. However, if the system is *time invariant* the equations are of the form\n",
      "$$ f(x) = \\dot{x}$$\n",
      "\n",
      "What does *time invariant* mean? Consider a home stereo. If you input a signal $x$ into it at time $t$, it will output some signal $f(x)$ a moment later. If you instead make the input at a later time the output signal will still be exactly the same, just shifted in time. This is different from, say, an aircraft. If you make a control input to the aircraft at a later time it's behavior will be different because it will have burned additonal fuel (and thus lost weight), drag may be different due to being at a different altitude, and so on.\n",
      "\n",
      "We can solve these equations by integrating each side. The time variant equation is very straightforward. We essentially solved this problem with the Newtonian equations above, but let's be explicit and write it out. Starting with  $$\\dot{\\mathbf{x}}=\\mathbf{v}$$ we get the expected\n",
      "\n",
      "$$ \\int \\dot{\\mathbf{x}}\\mathrm{d}t = \\int \\mathbf{v} \\mathrm{d}t\\\\\n",
      "x = vt + x_0$$\n",
      "\n",
      "\n",
      "However, integrating the time invariant equation is not so straightforward. \n",
      "\n",
      "$$ \\dot{x} = f(x) \\\\\n",
      "\\frac{dx}{dt} = f(x)\n",
      "$$ \n",
      "\n",
      "Using the *separation of variables* techniques, we divide by $f(x)$ and move the $dx$ term to the right so we can integrate each side:\n",
      "\n",
      "$$\n",
      "\\int^x_{x_0} \\frac{1}{f(x)} dx = \\int^t_{t_0} dt\\\\\n",
      "$$\n",
      "\n",
      "If we let the solution to the left hand side by named $F(x)$, we get\n",
      "\n",
      "$$F(x) - f(x_0) = t-t_0$$\n",
      "\n",
      "We then solve for x with\n",
      "\n",
      "$$F(x) = t - t_0 + F(x_0) \\\\\n",
      "x = F^{-1}[t-t_0 + F(x_0)]$$\n",
      "\n",
      "In other words, we need to find the inverse of $F$. This is not at all trivial, and a significant amount of course work in a STEM education is devoted to finding tricky, analytic solutions to this problem, backed by several centuries of research. \n",
      "\n",
      "In the end, however, they are tricks, and many simple forms of $f(x)$ either have no closed form solution, or pose extreme difficulties. Instead, the practicing engineer turns to numerical methods to find a solution to her problems. I would suggest that students would be better served by learning fewer analytic mathematical tricks and instead focusing on learning numerical methods."
     ]
    },
    {
     "cell_type": "heading",
     "level": 3,
     "metadata": {},
     "source": [
      "Finding the Fundamental Matrix for Time Invariant Systems"
     ]
    },
    {
     "cell_type": "markdown",
     "metadata": {},
     "source": [
      "So let me leap over quite a bit of mathematics and present the typical numerical techniques used in Kalman filter design. \n",
      "\n",
      "First, we express the system equations in state-space form (i.e. using linear algebra equations) with\n",
      "\n",
      "$$ \\dot{\\mathbf{x}} = \\mathbf{Fx}$$\n",
      "\n",
      "Now we can assert that we want to find the fundamental matrix $\\Phi$ that propagates the state with the equation\n",
      "\n",
      "$$x(t) = \\Phi(t-t_0)x(t_0)$$\n",
      "\n",
      "In other words, we just want to compute the value of $x$ at time $t$ by multipying its previous value by some matrix $\\Phi$.\n",
      "\n",
      "Broadly speaking there are three ways to find $\\Phi$. *Linear Time Invarient Theory*, known as LTI System Theory, gives us a way to find $\\Phi$ using the inverse Laplace transform. You are either nodding your head now, or completely lost. Don't worry, I will not be using the Lapace transform in this book except in this paragraph, as the computation is quite difficult to perform in practice, and there are better techniques we can avail ourselves to. LTI system theory tells us that \n",
      "\n",
      "$$ \\Phi(t) = \\mathcal{L}^{-1}[(s\\mathbf{I} - \\mathbf{F})^{-1}]$$\n",
      "\n",
      "I have no intention of going into this other than to say that the inverse Lapace transform converts a signal into the frequency (time) domain, but finding a solution to the equation above is non-trivial. If you are interested, the Wikipedia article on LTI system theory provides an introduction [1].\n",
      "\n",
      "\n",
      "The second technique is to use a Taylor-series expansion: \n",
      "\n",
      "$$ \\Phi(t) = e^{\\mathbf{F}t} = \\mathbf{I} + \\mathbf{F}t  + \\frac{(\\mathbf{F}t)^2}{2!} + \\frac{(\\mathbf{F}t)^3}{3!} + ... $$\n",
      "\n",
      "This is much easier to compute, and is the typical approach used in Kalman filter design when the filter is reasonably small. If you are wondering where $e$ came from, I again point to wikipedia - this time the matrix exponential article [2]. Here the important point is to recognize the very simple and regular form this equation takes. We will put this form into use in the next chapter, so I will not belabor its use here. \n",
      "\n",
      "Finally, there are numerical techniques to find $\\Phi$. As filters get larger finding analytical solutions becomes very tedious (though packages like Sympy make it easier). C. F. van Loan [3] has developed a technique that finds both $\\Phi$ and $Q$ numerically.\n",
      "\n",
      "I have implemented van Loan's method in `FilterPy`. You may use it as follows:\n",
      "\n",
      "    from filterpy.common import van_loan_discretization\n",
      "  \n",
      "    F = np.array([[0,1],[-1,0]], dtype=float)\n",
      "    G = np.array([[0.],[2.]]) # white noise scaling\n",
      "    phi, Q = van_loan_discretization(F, G, dt=0.1)\n",
      "    \n",
      "See the docstring documentation for van_loan_discretization for more information, which I have embedded below."
     ]
    },
    {
     "cell_type": "code",
     "collapsed": false,
     "input": [
      "from filterpy.common import van_loan_discretization\n",
      "help(van_loan_discretization)"
     ],
     "language": "python",
     "metadata": {},
     "outputs": [
      {
       "output_type": "stream",
       "stream": "stdout",
       "text": [
        "Help on function van_loan_discretization in module filterpy.common.discretization:\n",
        "\n",
        "van_loan_discretization(F, G, dt)\n",
        "    Discretizes a linear differential equation which includes white noise\n",
        "    according to the method of C. F. van Loan [1]. Given the continuous\n",
        "    model\n",
        "    \n",
        "        x' =  Fx + Gu\n",
        "    \n",
        "    where u is the unity white noise, we compute and return the sigma and Q_k\n",
        "    that discretizes that equation.\n",
        "    \n",
        "    \n",
        "    **Example**::\n",
        "    \n",
        "        Given y'' + y = 2u(t), we create the continuous state model of\n",
        "    \n",
        "        x' = | 0 1| * x + |0|*u(t)\n",
        "             |-1 0|       |2|\n",
        "    \n",
        "        and a time step of 0.1:\n",
        "    \n",
        "    \n",
        "        >>> F = np.array([[0,1],[-1,0]], dtype=float)\n",
        "        >>> G = np.array([[0.],[2.]])\n",
        "        >>> phi, Q = van_loan_discretization(F, G, 0.1)\n",
        "    \n",
        "        >>> phi\n",
        "        array([[ 0.99500417,  0.09983342],\n",
        "               [-0.09983342,  0.99500417]])\n",
        "    \n",
        "        >>> Q\n",
        "        array([[ 0.00133067,  0.01993342],\n",
        "               [ 0.01993342,  0.39866933]])\n",
        "    \n",
        "        (example taken from Brown[2])\n",
        "    \n",
        "    \n",
        "    **References**\n",
        "    \n",
        "    [1] C. F. van Loan. \"Computing Integrals Involving the Matrix Exponential.\"\n",
        "        IEEE Trans. Automomatic Control, AC-23 (3): 395-404 (June 1978)\n",
        "    \n",
        "    [2] Robert Grover Brown. \"Introduction to Random Signals and Applied\n",
        "        Kalman Fitlering.\" Forth edition. John Wiley & Sons. p. 126-7. (2012)\n",
        "\n"
       ]
      }
     ],
     "prompt_number": 2
    },
    {
     "cell_type": "heading",
     "level": 2,
     "metadata": {},
     "source": [
      "Walking Through the Kalman Filter Equations"
     ]
    },
    {
     "cell_type": "markdown",
     "metadata": {},
     "source": [
      "I promised that you would not have to understand how to derive Kalman filter equations, and that is true. However, I do think it is worth walking through the equations one by one and becoming familiar with the variables. If this is your first time through the material feel free to skip ahead to the next section. However, you will eventually want to work through this material, so why not now? You will need to have passing familiarity with these equations to read material written about the Kalman filter, as they all presuppose that you are familiar with them. I will reiterate them here for easy reference.\n",
      "\n",
      "\n",
      "$$\n",
      "\\begin{aligned}\n",
      "\\text{Predict Step}\\\\\n",
      "\\mathbf{x} &= \\mathbf{F x} + \\mathbf{B u}\\;\\;\\;\\;&(1) \\\\\n",
      "\\mathbf{P} &= \\mathbf{FP{F}}^\\mathsf{T} + \\mathbf{Q}\\;\\;\\;\\;&(2) \\\\\n",
      "\\\\\n",
      "\\text{Update Step}\\\\\n",
      "\\textbf{y} &= \\mathbf{z} - \\mathbf{H}\\mathbf{x}\\;\\;\\;&(3) \\\\\n",
      "\\mathbf{S} &= \\mathbf{HPH}^\\mathsf{T} + \\mathbf{R} \\;\\;\\;&(4) \\\\\n",
      "\\mathbf{K} &= \\mathbf{PH}^\\mathsf{T}\\mathbf{S}^{-1}\\;\\;\\;&(5) \\\\\n",
      "\\mathbf{x} &= \\mathbf{x} +\\mathbf{K}\\mathbf{y} \\;\\;\\;&(6)\\\\\n",
      "\\mathbf{P} &= (\\mathbf{I}-\\mathbf{K}\\mathbf{H})\\mathbf{P}\\;\\;\\;&(7)\n",
      "\\end{aligned}\n",
      "$$\n",
      "\n",
      "I will start with the update step, as that is what we started with in the one dimensional Kalman filter case. Our first equation is\n",
      "\n",
      "$$\n",
      "\\mathbf{y} = \\mathbf{z} - \\mathbf{H x}\\tag{3}\n",
      "$$\n",
      "\n",
      "On the right we have $\\mathbf{Hx}$. That should be recognizable as the measurement function. Multiplying $\\mathbf{H}$ with $\\mathbf{x}$ puts $\\mathbf{x}$ into *measurement space*; in other words, the same basis and units as the sensor's measurements. The variable $\\mathbf{z}$ is just the measurement; it is typical, but not universal to use $\\mathbf{z}$ to denote measurements in the literature ($\\mathbf{y}$ is also sometimes used). Do you remember this chart?"
     ]
    },
    {
     "cell_type": "code",
     "collapsed": false,
     "input": [
      "import mkf_internal\n",
      "mkf_internal.show_residual_chart()"
     ],
     "language": "python",
     "metadata": {},
     "outputs": [
      {
       "metadata": {},
       "output_type": "display_data",
       "png": "[encoded data removed]",
       "text": [
        "<matplotlib.figure.Figure at 0x7f9d2131da90>"
       ]
      }
     ],
     "prompt_number": 3
    },
    {
     "cell_type": "markdown",
     "metadata": {},
     "source": [
      "The blue point labeled \"prediction\" is the output of $\\mathbf{Hx}$, and the dot labeled \"measurement\" is $\\mathbf{z}$. Therefore, $\\mathbf{y} = \\mathbf{z} - \\mathbf{Hx}$ is how we compute the residual, drawn in red, where $\\mathbf{z}$ is the residual.\n",
      "\n",
      "The next two lines are the formidable:\n",
      "\n",
      "$$\n",
      "\\begin{aligned}\n",
      "\\mathbf{S} &= \\textbf{HPH}^\\mathsf{T} + \\textbf{R} \\;\\;\\;&(4) \\\\\n",
      "\\textbf{K} &= \\textbf{PH}^\\mathsf{T}\\mathbf{S}^{-1}\\;\\;\\;&(5) \\\\\n",
      "\\end{aligned}\n",
      "$$\n",
      "Unfortunately it is a fair amount of linear algebra to derive this. The derivation can be quite elegant, and I urge you to look it up if you have the mathematical education to follow it. But $\\mathbf{K}$ is just the *Kalman gain* - the ratio of how much measurement vs prediction we should use to create the new estimate. $\\mathbf{R}$ is the *measurement noise*, and $\\mathbf{P}$ is our *uncertainty covariance matrix* from the prediction step.\n",
      "\n",
      "** author's note: the following aside probably belongs elsewhere in the book**\n",
      "\n",
      "> As an aside, most textbooks are more exact with the notation, in Gelb[1] for example, *Pk(+)* is used to denote the uncertainty covariance for the prediction step, and *Pk(-)* for the uncertainty covariance for the update step. Other texts use subscripts with 'k|k-1', superscipt $^-$, and many other variations. As a programmer I find all of that fairly unreadable; I am used to thinking about variables changing state as a program runs, and do not use a different variable name for each new computation. There is no agreed upon format, so each author makes different choices. I find it challenging to switch quickly between books an papers, and so have adopted this admittedly less precise notation. Mathematicians will write scathing emails to me, but I hope the programmers and students will rejoice.\n",
      "\n",
      "> If you are a programmer trying to understand a paper's math equations, I strongly recommend just removing all of the superscripts, subscripts, and diacriticals, replacing them with a single letter. If you work with equations like this every day this is superflous advice, but when I read I am usually trying to understand the flow of computation. To me it is far more understandable to remember that $P$ in this step represents the updated value of $P$ computed in the last step, as opposed to trying to remember what $P_{k-1}(+)$ denotes, and what its relation to $P_k(-)$ is, if any.\n",
      "\n",
      "> For example, for the equation of $\\mathbf{S}$ above, Wikipedia uses\n",
      "\n",
      "> $$\\textbf{S}_k = \\textbf{H}_k \\textbf{P}_{k\\mid k-1} \\textbf{H}_k^\\mathsf{T} + \\textbf{R}_k\n",
      "$$\n",
      "\n",
      "> Is that more exact? Absolutely. Is it easier or harder to read? You'll need to answer that for yourself.\n",
      "\n",
      "> For reference, the Appendix **Symbols and Notations** lists the symbology used by the major authors in the field.\n",
      "\n",
      "\n",
      "So let's work through this expression by expression. Start with $\\mathbf{HPH}^\\mathsf{T}$. The linear equation $\\mathbf{ABA}^T$ can be thought of as changing the basis of $\\mathbf{B}$ to $\\mathbf{A}$. So $\\mathbf{HPH}^\\mathsf{T}$ is taking the covariance $\\mathbf{P}$ and putting it in measurement ($\\mathbf{H}$) space. \n",
      "\n",
      "In English, consider the problem of reading a temperature with a thermometer that provices readings in volts. Our state is in terms of temperature, but we are now doing calculations in *measurement space* - volts. So we need to convert $\\mathbf{P}$ from applying to temperatures to volts. The linear algebra form $\\textbf{H}\\textbf{P}\\textbf{H}$ takes $\\mathbf{P}$ to the basis used by $\\mathbf{H}$, namely volts. \n",
      "\n",
      "Then, once in measurement space, we can add the measurement noise $\\mathbf{R}$ to it. Hence, the expression for the uncertainty once we include the measurement is:\n",
      "\n",
      "$$\\mathbf{S} = \\mathbf{HP}\\mathbf{H}^\\mathsf{T} + \\mathbf{R}$$"
     ]
    },
    {
     "cell_type": "markdown",
     "metadata": {},
     "source": [
      "The next equation is\n",
      "$$\\textbf{K} = \\textbf{P}\\textbf{H}^T\\mathbf{S}^{-1}\\\\\n",
      "$$\n",
      "\n",
      "$\\mathbf{K}$ is the *Kalman gain* - the ratio that chooses how far along the residual to select between the measurement and prediction in the graph above.\n",
      "\n",
      "We can think of the inverse of a matrix as linear algebra's way ofcomputing  $\\frac{1}{x}$. So we can read the equation for $\\textbf{K}$ as\n",
      "\n",
      "$$ \\textbf{K} = \\frac{\\textbf{P}\\textbf{H}^\\mathsf{T}}{\\mathbf{S}} $$\n",
      "\n",
      "\n",
      "$$\n",
      "\\textbf{K} = \\frac{uncertainty_{prediction}}{uncertainty_{measurement}}\n",
      "$$\n",
      "\n",
      "\n",
      "In other words, the *Kalman gain* equation is doing nothing more than computing a ratio based on how much we trust the prediction vs the measurement. If we are confident in our measurements and unconfident in our predictions $\\mathbf{K}$ will favor the measurement, and vice versa. The equation is complicated because we are doing this in multiple dimensions via matrices, but the concept is simple - scale by a ratio.\n",
      "\n",
      "Without going into the derivation of $\\mathbf{K}$, I'll say that this equation is the result of finding a value of $\\mathbf{K}$ that optimizes the *mean-square estimation error*. It does this by finding the minimal values for $\\mathbf{P}$ along it's diagonal. Recall that the diagonal of $\\mathbf{P}$ is just the variance for each state variable. So, this equation for $\\mathbf{K}$ ensures that the Kalman filter output is optimal. To put this in concrete terms, for our dog tracking problem this means that the estimates for both position and velocity will be optimal - a value of $\\mathbf{K}$ that made the position extremely accurate but the velocity very inaccurate would be rejected in favor of a $\\mathbf{K}$ that made both position and velocity just somewhat accurate."
     ]
    },
    {
     "cell_type": "markdown",
     "metadata": {},
     "source": [
      "Our next line is:\n",
      " $$\\mathbf{x}=\\mathbf{x}' +\\mathbf{Ky}\\tag{5}$$\n",
      "\n",
      "This just multiplies the residual by the Kalman gain, and adds it to the state variable. In other words, this is the computation of our new estimate.\n",
      "\n",
      "Finally, we have:\n",
      "\n",
      "$$\\mathbf{P}=(\\mathbf{I}-\\mathbf{KH})\\mathbf{P}\\tag{6}$$\n",
      "\n",
      "$I$ is the identity matrix, and is the way we represent $1$ in multiple dimensions. $H$ is our measurement function, and is a constant.  So, simplified, this is simply $P = (1-cK)P$. $K$ is our ratio of how much prediction vs measurement we use. So, if $K$ is large then $(1-cK)$ is small, and P will be made smaller than it was. If $K$ is small, then $(1-cK)$ is large, and P will be made larger than it was. So we adjust the size of our uncertainty by some factor of the *Kalman gain*. I would like to draw your attention back to the g-h filter, which included this Python code:\n",
      "\n",
      "    # update filter \n",
      "    w = w * (1-scale_factor) + z * scale_factor\n",
      "\n",
      "This multidimensional Kalman filter equation is partially implementing this calculation for the variance instead of the state variable."
     ]
    },
    {
     "cell_type": "markdown",
     "metadata": {},
     "source": [
      "Now we have the measurement steps. The first equation is\n",
      "\n",
      "$$\\mathbf{x} = \\mathbf{Fx} + \\mathbf{Bu}\\tag{1}$$\n",
      "\n",
      "This is just our state transition equation which we have already discussed. $\\mathbf{Fx}$  multiplies $\\mathbf{x}$ with the state transition matrix to compute the next state. $B$ and $u$ add in the contribution of the control input $\\mathbf{u}$, if any.\n",
      "\n",
      "The final equation is:\n",
      "$$\\mathbf{P} = \\mathbf{FPF}^\\mathsf{T} + \\mathbf{Q}\\tag{2}$$\n",
      "\n",
      "$\\mathbf{FPF}^\\mathsf{T}$ is the way we put $\\mathbf{P}$ into the process space using linear algebra so that we can add in the process noise $\\mathbf{Q}$ to it."
     ]
    },
    {
     "cell_type": "heading",
     "level": 2,
     "metadata": {},
     "source": [
      "Design of the Process Noise Matrix"
     ]
    },
    {
     "cell_type": "markdown",
     "metadata": {},
     "source": [
      "In general the design of the $\\mathbf{Q}$ matrix is among the most difficult aspects of Kalman filter design. This is due to several factors. First, the math itself is somewhat difficult and requires a good foundation in signal theory. Second, we are trying to model the noise in something for which we have little information. For example, consider trying to model the process noise for a baseball. We can model it as a sphere moving through the air, but that leave many unknown factors - the wind, ball rotation and spin decay, the coefficient of friction of a scuffed ball with stitches, the effects of wind and air density, and so on. I will develop the equations for an exact mathematical solution for a given process model, but since the process model is incomplete the result for $\\mathbf{Q}$ will also be incomplete. This has a lot of ramifications for the behavior of the Kalman filter. If $\\mathbf{Q}$ is too small than the filter will be overconfident in it's prediction model and will diverge from the actual solution. If $\\mathbf{Q}$ is too large than the filter will be unduly influenced by the noise in the measurements and perform suboptimally. In practice we spend a lot of time running simulations and evaluating collected data to try to select an appropriate value for $\\mathbf{Q}$. But let's start by looking at the math.\n",
      "\n",
      "\n",
      "Let's assume a kinematic system - some system that can be modelled using Newton's equations of motion. We can make a few different assumptions about this process. \n",
      "\n",
      "We have been using a process model of\n",
      "\n",
      "$$ f(\\mathbf{x}) = \\mathbf{Fx} + \\mathbf{w}$$\n",
      "\n",
      "where $\\mathbf{w}$ is the process noise. Kinematic systems are *continuous* - their inputs and outputs can vary at any arbitrary point in time. However, our Kalman filters are *discrete*. We sample the system at regular intervals. Therefore we must find the discrete representation for the noise term in the equation above. However, this depends on what assumptions we make about the behavior of the noise. We will consider two different models for the noise."
     ]
    },
    {
     "cell_type": "markdown",
     "metadata": {},
     "source": [
      "### Continuous White Noise Model\n",
      "\n",
      "We model kinematic systems using Newton's equations. So far in this book we have either used position and velocity, or position,velocity, and acceleration as the models for our systems. There is nothing stopping us from going further - we can model jerk, jounce, snap, and so on. We don't do that normally because adding terms beyond the dynamics of the real system actually degrades the solution. \n",
      "\n",
      "Let's say that we need to model the position, velocity, and acceleration. We can then assume that acceleration is constant. Of course, there is process noise in the system and so the acceleration is not actually constant. In this section we will assume that the acceleration changes by a continouus time zero-mean white noise $w(t)$. In other words, we are assuming that velocity is acceleration changing by small amounts that over time average to 0 (zero-mean). \n",
      "\n",
      "\n",
      "Since the noise is changing continuously we will need to integrate to get the discrete noise for the discretization interval that we have chosen. We will not prove it here, but the equation for discretizing the noise is\n",
      "\n",
      "$$\\mathbf{Q} = \\int_0^{\\Delta t} \\Phi(t)\\mathbf{Q_c}\\Phi^\\mathsf{T}(t) dt$$\n",
      "\n",
      "where $\\mathbf{Q_c}$ is the continuous noise. This gives us\n",
      "\n",
      "$$\\Phi = \\begin{bmatrix}1 & \\Delta t & {\\Delta t}^2/2 \\\\ 0 & 1 & \\Delta t\\\\ 0& 0& 1\\end{bmatrix}$$\n",
      "\n",
      "for the fundamental matrix, and\n",
      "\n",
      "$$\\mathbf{Q_c} = \\begin{bmatrix}0&0&0\\\\0&0&0\\\\0&0&1\\end{bmatrix} \\Phi_s$$\n",
      "\n",
      "for the continuous process noise matrix, where $\\Phi_s$ is the spectral density of the white noise.\n",
      "\n",
      "We could carry out these computations ourselves, but I prefer using SymPy to solve the equation."
     ]
    },
    {
     "cell_type": "code",
     "collapsed": false,
     "input": [
      "import sympy\n",
      "from sympy import  init_printing, Matrix,MatMul, integrate, symbols\n",
      "\n",
      "init_printing(use_latex='mathjax')\n",
      "dt, phi = symbols('\\Delta{t} \\Phi_s')\n",
      "F_k = Matrix([[1, dt, dt**2/2],\n",
      "              [0,  1,      dt],\n",
      "              [0,  0,       1]])\n",
      "Q_c = Matrix([[0,0,0],\n",
      "              [0,0,0],\n",
      "              [0,0,1]])*phi\n",
      "\n",
      "Q=sympy.integrate(F_k*Q_c*F_k.T,(dt, 0, dt))\n",
      "\n",
      "# factor phi out of the matrix to make it more readable\n",
      "Q = Q/phi\n",
      "sympy.MatMul(Q, phi)"
     ],
     "language": "python",
     "metadata": {},
     "outputs": [
      {
       "latex": [
        "$$\\left[\\begin{matrix}\\frac{\\Delta{t}^{5}}{20} & \\frac{\\Delta{t}^{4}}{8} & \\frac{\\Delta{t}^{3}}{6}\\\\\\frac{\\Delta{t}^{4}}{8} & \\frac{\\Delta{t}^{3}}{3} & \\frac{\\Delta{t}^{2}}{2}\\\\\\frac{\\Delta{t}^{3}}{6} & \\frac{\\Delta{t}^{2}}{2} & \\Delta{t}\\end{matrix}\\right] \\Phi_{s}$$"
       ],
       "metadata": {},
       "output_type": "pyout",
       "prompt_number": 4,
       "text": [
        "\u23a1         5           4           3\u23a4       \n",
        "\u23a2\\Delta{t}   \\Delta{t}   \\Delta{t} \u23a5       \n",
        "\u23a2\u2500\u2500\u2500\u2500\u2500\u2500\u2500\u2500\u2500\u2500  \u2500\u2500\u2500\u2500\u2500\u2500\u2500\u2500\u2500\u2500  \u2500\u2500\u2500\u2500\u2500\u2500\u2500\u2500\u2500\u2500\u23a5\u22c5\\Phi_s\n",
        "\u23a2    20          8           6     \u23a5       \n",
        "\u23a2                                  \u23a5       \n",
        "\u23a2         4           3           2\u23a5       \n",
        "\u23a2\\Delta{t}   \\Delta{t}   \\Delta{t} \u23a5       \n",
        "\u23a2\u2500\u2500\u2500\u2500\u2500\u2500\u2500\u2500\u2500\u2500  \u2500\u2500\u2500\u2500\u2500\u2500\u2500\u2500\u2500\u2500  \u2500\u2500\u2500\u2500\u2500\u2500\u2500\u2500\u2500\u2500\u23a5       \n",
        "\u23a2    8           3           2     \u23a5       \n",
        "\u23a2                                  \u23a5       \n",
        "\u23a2         3           2            \u23a5       \n",
        "\u23a2\\Delta{t}   \\Delta{t}             \u23a5       \n",
        "\u23a2\u2500\u2500\u2500\u2500\u2500\u2500\u2500\u2500\u2500\u2500  \u2500\u2500\u2500\u2500\u2500\u2500\u2500\u2500\u2500\u2500  \\Delta{t} \u23a5       \n",
        "\u23a3    6           2                 \u23a6       "
       ]
      }
     ],
     "prompt_number": 4
    },
    {
     "cell_type": "markdown",
     "metadata": {},
     "source": [
      "For completeness, let us compute the equations for the 0th order and 1st order equations.\n"
     ]
    },
    {
     "cell_type": "code",
     "collapsed": false,
     "input": [
      "F_k = sympy.Matrix([[1]])\n",
      "Q_c = sympy.Matrix([[phi]])\n",
      "\n",
      "print('0th order discrete process noise')\n",
      "sympy.integrate(F_k*Q_c*F_k.T,(dt, 0, dt))"
     ],
     "language": "python",
     "metadata": {},
     "outputs": [
      {
       "output_type": "stream",
       "stream": "stdout",
       "text": [
        "0th order discrete process noise\n"
       ]
      },
      {
       "latex": [
        "$$\\left[\\begin{matrix}\\Delta{t} \\Phi_{s}\\end{matrix}\\right]$$"
       ],
       "metadata": {},
       "output_type": "pyout",
       "prompt_number": 5,
       "text": [
        "[\\Delta{t}\u22c5\\Phi_s]"
       ]
      }
     ],
     "prompt_number": 5
    },
    {
     "cell_type": "code",
     "collapsed": false,
     "input": [
      "F_k = sympy.Matrix([[1, dt],\n",
      "                    [0, 1]])\n",
      "Q_c = sympy.Matrix([[0,0],\n",
      "                    [0,1]])*phi\n",
      "\n",
      "Q = sympy.integrate(F_k*Q_c*F_k.T,(dt, 0, dt))\n",
      "\n",
      "print('1st order discrete process noise')\n",
      "# factor phi out of the matrix to make it more readable\n",
      "Q = Q/phi\n",
      "sympy.MatMul(Q, phi)"
     ],
     "language": "python",
     "metadata": {},
     "outputs": [
      {
       "output_type": "stream",
       "stream": "stdout",
       "text": [
        "1st order discrete process noise\n"
       ]
      },
      {
       "latex": [
        "$$\\left[\\begin{matrix}\\frac{\\Delta{t}^{3}}{3} & \\frac{\\Delta{t}^{2}}{2}\\\\\\frac{\\Delta{t}^{2}}{2} & \\Delta{t}\\end{matrix}\\right] \\Phi_{s}$$"
       ],
       "metadata": {},
       "output_type": "pyout",
       "prompt_number": 6,
       "text": [
        "\u23a1         3           2\u23a4       \n",
        "\u23a2\\Delta{t}   \\Delta{t} \u23a5       \n",
        "\u23a2\u2500\u2500\u2500\u2500\u2500\u2500\u2500\u2500\u2500\u2500  \u2500\u2500\u2500\u2500\u2500\u2500\u2500\u2500\u2500\u2500\u23a5\u22c5\\Phi_s\n",
        "\u23a2    3           2     \u23a5       \n",
        "\u23a2                      \u23a5       \n",
        "\u23a2         2            \u23a5       \n",
        "\u23a2\\Delta{t}             \u23a5       \n",
        "\u23a2\u2500\u2500\u2500\u2500\u2500\u2500\u2500\u2500\u2500\u2500  \\Delta{t} \u23a5       \n",
        "\u23a3    2                 \u23a6       "
       ]
      }
     ],
     "prompt_number": 6
    },
    {
     "cell_type": "markdown",
     "metadata": {},
     "source": [
      "### Piecewise White Noise Model\n",
      "\n",
      "Another model for the noise assumes that the that highest order term (say, acceleration) is constant for each time period, but differs for each time period, and each of these is uncorrelated between time periods. This is subtly different than the model above, where we assumed that the last term had a continuously varying noisy signal applied to it.  \n",
      "\n",
      "We will model this as\n",
      "\n",
      "$$f(x)=Fx+\\Gamma w$$\n",
      "\n",
      "where $\\Gamma$ is the *noise gain* of the system, and $w$ is the constant piecewise accleration (or velocity, or jerk, etc). \n",
      "\n",
      "\n",
      "Lets start with by looking a first order system. In this case we have the state transition function\n",
      "\n",
      "$$\\mathbf{F} = \\begin{bmatrix}1&\\Delta t \\\\ 0& 1\\end{bmatrix}$$\n",
      "\n",
      "In one time period, the change in velocity will be $w(t)\\Delta t$, and the change in position will be $w(t)\\Delta t^2/2$, giving us\n",
      "\n",
      "$$\\Gamma = \\begin{bmatrix}\\frac{1}{2}\\Delta t^2 \\\\ \\Delta t\\end{bmatrix}$$\n",
      "\n",
      "The covariance of the process noise is then\n",
      "\n",
      "$$Q = E[\\Gamma w(t) w(t) \\Gamma^\\mathsf{T}] = \\Gamma\\sigma^2_v\\Gamma^\\mathsf{T}$$.\n",
      "\n",
      "We can compute that with SymPy as follows"
     ]
    },
    {
     "cell_type": "code",
     "collapsed": false,
     "input": [
      "var=symbols('sigma^2_v')\n",
      "v = Matrix([[dt**2/2], [dt]])\n",
      "\n",
      "Q = v * var * v.T\n",
      "\n",
      "# factor variance out of the matrix to make it more readable\n",
      "Q = Q / var\n",
      "sympy.MatMul(Q, var)"
     ],
     "language": "python",
     "metadata": {},
     "outputs": [
      {
       "latex": [
        "$$\\left[\\begin{matrix}\\frac{\\Delta{t}^{4}}{4} & \\frac{\\Delta{t}^{3}}{2}\\\\\\frac{\\Delta{t}^{3}}{2} & \\Delta{t}^{2}\\end{matrix}\\right] \\sigma^{2}_{v}$$"
       ],
       "metadata": {},
       "output_type": "pyout",
       "prompt_number": 7,
       "text": [
        "\u23a1         4           3\u23a4    \n",
        "\u23a2\\Delta{t}   \\Delta{t} \u23a5    \n",
        "\u23a2\u2500\u2500\u2500\u2500\u2500\u2500\u2500\u2500\u2500\u2500  \u2500\u2500\u2500\u2500\u2500\u2500\u2500\u2500\u2500\u2500\u23a5\u22c5\u03c3\u00b2\u1d65\n",
        "\u23a2    4           2     \u23a5    \n",
        "\u23a2                      \u23a5    \n",
        "\u23a2         3            \u23a5    \n",
        "\u23a2\\Delta{t}            2\u23a5    \n",
        "\u23a2\u2500\u2500\u2500\u2500\u2500\u2500\u2500\u2500\u2500\u2500  \\Delta{t} \u23a5    \n",
        "\u23a3    2                 \u23a6    "
       ]
      }
     ],
     "prompt_number": 7
    },
    {
     "cell_type": "markdown",
     "metadata": {},
     "source": [
      "The second order system proceeds with the same math.\n",
      "\n",
      "\n",
      "$$\\mathbf{F} = \\begin{bmatrix}1 & \\Delta t & {\\Delta t}^2/2 \\\\ 0 & 1 & \\Delta t\\\\ 0& 0& 1\\end{bmatrix}$$\n",
      "\n",
      "Here we will assume that the white noise is a discrete time Wiener process. This gives us\n",
      "\n",
      "$$\\Gamma = \\begin{bmatrix}\\frac{1}{2}\\Delta t^2 \\\\ \\Delta t\\\\ 1\\end{bmatrix}$$\n",
      "\n",
      "There is no 'truth' to this model, it is just convienent and provides good results. For example, we could assume that the noise is applied to the jerk at the cost of a more complicated equation. \n",
      "\n",
      "The covariance of the process noise is then\n",
      "\n",
      "$$Q = E[\\Gamma w(t) w(t) \\Gamma^\\mathsf{T}] = \\Gamma\\sigma^2_v\\Gamma^\\mathsf{T}$$.\n",
      "\n",
      "We can compute that with SymPy as follows"
     ]
    },
    {
     "cell_type": "code",
     "collapsed": false,
     "input": [
      "var=symbols('sigma^2_v')\n",
      "v = Matrix([[dt**2/2], [dt], [1]])\n",
      "\n",
      "Q = v * var * v.T\n",
      "\n",
      "# factor variance out of the matrix to make it more readable\n",
      "Q = Q / var\n",
      "sympy.MatMul(Q, var)"
     ],
     "language": "python",
     "metadata": {},
     "outputs": [
      {
       "latex": [
        "$$\\left[\\begin{matrix}\\frac{\\Delta{t}^{4}}{4} & \\frac{\\Delta{t}^{3}}{2} & \\frac{\\Delta{t}^{2}}{2}\\\\\\frac{\\Delta{t}^{3}}{2} & \\Delta{t}^{2} & \\Delta{t}\\\\\\frac{\\Delta{t}^{2}}{2} & \\Delta{t} & 1\\end{matrix}\\right] \\sigma^{2}_{v}$$"
       ],
       "metadata": {},
       "output_type": "pyout",
       "prompt_number": 8,
       "text": [
        "\u23a1         4           3           2\u23a4    \n",
        "\u23a2\\Delta{t}   \\Delta{t}   \\Delta{t} \u23a5    \n",
        "\u23a2\u2500\u2500\u2500\u2500\u2500\u2500\u2500\u2500\u2500\u2500  \u2500\u2500\u2500\u2500\u2500\u2500\u2500\u2500\u2500\u2500  \u2500\u2500\u2500\u2500\u2500\u2500\u2500\u2500\u2500\u2500\u23a5\u22c5\u03c3\u00b2\u1d65\n",
        "\u23a2    4           2           2     \u23a5    \n",
        "\u23a2                                  \u23a5    \n",
        "\u23a2         3                        \u23a5    \n",
        "\u23a2\\Delta{t}            2            \u23a5    \n",
        "\u23a2\u2500\u2500\u2500\u2500\u2500\u2500\u2500\u2500\u2500\u2500  \\Delta{t}   \\Delta{t} \u23a5    \n",
        "\u23a2    2                             \u23a5    \n",
        "\u23a2                                  \u23a5    \n",
        "\u23a2         2                        \u23a5    \n",
        "\u23a2\\Delta{t}                         \u23a5    \n",
        "\u23a2\u2500\u2500\u2500\u2500\u2500\u2500\u2500\u2500\u2500\u2500  \\Delta{t}       1     \u23a5    \n",
        "\u23a3    2                             \u23a6    "
       ]
      }
     ],
     "prompt_number": 8
    },
    {
     "cell_type": "markdown",
     "metadata": {},
     "source": [
      "We cannot say that this model is more or less correct than the continuous model - both are approximations to what is happening to the actual object. Only experience and experiments can guide you to the appropriate model. In practice you will usually find that either model provides reasonable results, but typically one will perform better than the other.\n",
      "\n",
      "The advantage of the second model is that we can model the noise in terms of $\\sigma^2$ which we can describe in terms of the motion and the amount of error we expect. The first model requires us to specify the spectral density, which is not very intuitive, but it handles varying time samples much more easily since the noise is integrated across the time period. However, these are not fixed rules - use whichever model (or a model of your own devising) based on testing how the filter performs and/or your knowledge of the behavior of the physical model."
     ]
    },
    {
     "cell_type": "markdown",
     "metadata": {},
     "source": [
      "### Using FilterPy to Compute Q\n",
      "\n",
      "FilterPy offers several routines to compute the $\\mathbf{Q}$ matrix. The function `Q_continuous_white_noise()` computes $\\mathbf{Q}$ for a given value for $\\Delta t$ and the spectral density."
     ]
    },
    {
     "cell_type": "code",
     "collapsed": false,
     "input": [
      "import filterpy.common as common\n",
      "\n",
      "common.Q_continuous_white_noise(dim=2, dt=1, spectral_density=1)"
     ],
     "language": "python",
     "metadata": {},
     "outputs": [
      {
       "metadata": {},
       "output_type": "pyout",
       "prompt_number": 9,
       "text": [
        "array([[ 0.33333333,  0.5       ],\n",
        "       [ 0.5       ,  1.        ]])"
       ]
      }
     ],
     "prompt_number": 9
    },
    {
     "cell_type": "code",
     "collapsed": false,
     "input": [
      "common.Q_continuous_white_noise(dim=3, dt=1, spectral_density=1)"
     ],
     "language": "python",
     "metadata": {},
     "outputs": [
      {
       "metadata": {},
       "output_type": "pyout",
       "prompt_number": 10,
       "text": [
        "array([[ 0.05      ,  0.125     ,  0.16666667],\n",
        "       [ 0.125     ,  0.33333333,  0.5       ],\n",
        "       [ 0.16666667,  0.5       ,  1.        ]])"
       ]
      }
     ],
     "prompt_number": 10
    },
    {
     "cell_type": "markdown",
     "metadata": {},
     "source": [
      "The function `Q_discrete_white_noise()` computes $\\mathbf{Q}$ assuming a piecewise model for the noise."
     ]
    },
    {
     "cell_type": "code",
     "collapsed": false,
     "input": [
      "common.Q_discrete_white_noise(2, var=1.)"
     ],
     "language": "python",
     "metadata": {},
     "outputs": [
      {
       "metadata": {},
       "output_type": "pyout",
       "prompt_number": 11,
       "text": [
        "array([[ 0.25,  0.5 ],\n",
        "       [ 0.5 ,  1.  ]])"
       ]
      }
     ],
     "prompt_number": 11
    },
    {
     "cell_type": "code",
     "collapsed": false,
     "input": [
      "common.Q_discrete_white_noise(3, var=1.)"
     ],
     "language": "python",
     "metadata": {},
     "outputs": [
      {
       "metadata": {},
       "output_type": "pyout",
       "prompt_number": 12,
       "text": [
        "array([[ 0.25,  0.5 ,  0.5 ],\n",
        "       [ 0.5 ,  1.  ,  1.  ],\n",
        "       [ 0.5 ,  1.  ,  1.  ]])"
       ]
      }
     ],
     "prompt_number": 12
    },
    {
     "cell_type": "markdown",
     "metadata": {},
     "source": [
      "### Simplification of Q\n",
      "\n",
      "Through the early parts of this book I used a much simpler form for $\\mathbf{Q}$, often only putting a noise term in the lower rightmost element. Is this justified? Well, consider the value of $\\mathbf{Q}$ for a small $\\Delta t$"
     ]
    },
    {
     "cell_type": "code",
     "collapsed": false,
     "input": [
      "common.Q_continuous_white_noise(dim=3, dt=0.05, spectral_density=1)"
     ],
     "language": "python",
     "metadata": {},
     "outputs": [
      {
       "metadata": {},
       "output_type": "pyout",
       "prompt_number": 13,
       "text": [
        "array([[  1.56250000e-08,   7.81250000e-07,   2.08333333e-05],\n",
        "       [  7.81250000e-07,   4.16666667e-05,   1.25000000e-03],\n",
        "       [  2.08333333e-05,   1.25000000e-03,   5.00000000e-02]])"
       ]
      }
     ],
     "prompt_number": 13
    },
    {
     "cell_type": "markdown",
     "metadata": {},
     "source": [
      "We can see that most of the terms are very small. Recall that the only Kalman filter using this matrix is\n",
      "\n",
      "$$ \\mathbf{P}=\\mathbf{FPF}^\\mathsf{T} + \\mathbf{Q}$$\n",
      "\n",
      "If the values for $\\mathbf{Q}$ are small relative to $\\mathbf{P}$\n",
      "than it will be contributing almost nothing to the computation of $\\mathbf{P}$. Setting $\\mathbf{Q}$ to \n",
      "\n",
      "$$Q=\\begin{bmatrix}0&0&0\\\\0&0&0\\\\0&0&\\sigma^2\\end{bmatrix}$$\n",
      "\n",
      "while not correct, is often a useful approximation. If you do this you will have to perform quite a few studies to guarantee that your filter works in a variety of situations. Given the availability of functions to compute the correct values of $\\mathbf{Q}$ for you I would strongly recommend not using approximations. Perhaps it is justified for quick-and-dirty filters, or on embedded devices where you need to wring out every last bit of performance, and seek to minimize the number of matrix operations required. "
     ]
    },
    {
     "cell_type": "heading",
     "level": 2,
     "metadata": {},
     "source": [
      "References"
     ]
    },
    {
     "cell_type": "markdown",
     "metadata": {},
     "source": [
      " * [1] *LTI System Theory* http://en.wikipedia.org/wiki/LTI_system_theory\n",
      " \n",
      " * [2] *Matrix Exponential* http://en.wikipedia.org/wiki/Matrix_exponential \n",
      " \n",
      " * [3] C.F. van Loan, \"Computing Integrals Involving the Matrix Exponential,\" IEEE Transactions Automatic Control, June 1978."
     ]
    }
   ],
   "metadata": {}
  }
 ]
}