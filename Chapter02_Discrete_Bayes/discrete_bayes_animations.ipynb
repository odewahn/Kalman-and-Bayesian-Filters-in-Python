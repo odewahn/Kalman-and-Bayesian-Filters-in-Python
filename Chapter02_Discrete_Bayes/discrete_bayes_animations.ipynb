{
 "metadata": {
  "name": "",
  "signature": "sha256:fea22f31f443e23e2d336a0742e6bf9a559c588029a2d3c2e8e69066e08c2fe5"
 },
 "nbformat": 3,
 "nbformat_minor": 0,
 "worksheets": [
  {
   "cells": [
    {
     "cell_type": "code",
     "collapsed": false,
     "input": [],
     "language": "python",
     "metadata": {},
     "outputs": []
    }
   ],
   "metadata": {}
  }
 ]
}