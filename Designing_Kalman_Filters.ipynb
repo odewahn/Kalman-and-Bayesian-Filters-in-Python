{
 "metadata": {
  "name": "",
  "signature": "sha256:1176e606a0fbcfee32c2c1282d705afff40c345291d62a713bbb17979900fd8d"
 },
 "nbformat": 3,
 "nbformat_minor": 0,
 "worksheets": [
  {
   "cells": [
    {
     "cell_type": "heading",
     "level": 1,
     "metadata": {},
     "source": [
      "Designing Kalman Filters"
     ]
    },
    {
     "cell_type": "code",
     "collapsed": false,
     "input": [
      "#format the book\n",
      "%matplotlib inline\n",
      "from __future__ import division, print_function\n",
      "import matplotlib.pyplot as plt\n",
      "import book_format\n",
      "book_format.load_style()\n",
      "\n",
      "#%install_ext secnum.py\n",
      "#%load_ext secnum\n",
      "#%secnum"
     ],
     "language": "python",
     "metadata": {},
     "outputs": [
      {
       "html": [
        "<style>\n",
        "    div.cell{\n",
        "        width: 850px;\n",
        "        margin-left: 0% !important;\n",
        "        margin-right: auto;\n",
        "    }\n",
        "    div.text_cell code {\n",
        "        background: #F6F6F9;\n",
        "        color: #0000FF;\n",
        "   }\n",
        "    h1 {\n",
        "        font-family: 'Open sans',verdana,arial,sans-serif;\n",
        "\t}\n",
        "\t\n",
        "    div.input_area {\n",
        "        background: #F6F6F9;\n",
        "        border: 1px solid #586e75;\n",
        "    }\n",
        "\n",
        "    .text_cell_render h1 {\n",
        "        font-weight: 200;\n",
        "        font-size: 30pt;\n",
        "        line-height: 100%;\n",
        "        color:#c76c0c;\n",
        "        margin-bottom: 0.5em;\n",
        "        margin-top: 1em;\n",
        "        display: block;\n",
        "        white-space: wrap;\n",
        "    } \n",
        "    h2 {\n",
        "        font-family: 'Open sans',verdana,arial,sans-serif;\n",
        "    }\n",
        "    .text_cell_render h2 {\n",
        "        font-weight: 200;\n",
        "        font-size: 20pt;\n",
        "        font-style: italic;\n",
        "        line-height: 100%;\n",
        "        color:#c76c0c;\n",
        "        margin-bottom: 0.5em;\n",
        "        margin-top: 1.5em;\n",
        "        display: block;\n",
        "        white-space: nowrap;\n",
        "    } \n",
        "    h3 {\n",
        "        font-family: 'Open sans',verdana,arial,sans-serif;\n",
        "    }\n",
        "    .text_cell_render h3 {\n",
        "        font-weight: 300;\n",
        "        font-size: 18pt;\n",
        "        line-height: 100%;\n",
        "        color:#d77c0c;\n",
        "        margin-bottom: 0.5em;\n",
        "        margin-top: 2em;\n",
        "        display: block;\n",
        "        white-space: nowrap;\n",
        "    }\n",
        "    h4 {\n",
        "        font-family: 'Open sans',verdana,arial,sans-serif;\n",
        "    }\n",
        "    .text_cell_render h4 {\n",
        "        font-weight: 300;\n",
        "        font-size: 16pt;\n",
        "        color:#d77c0c;\n",
        "        margin-bottom: 0.5em;\n",
        "        margin-top: 0.5em;\n",
        "        display: block;\n",
        "        white-space: nowrap;\n",
        "    }\n",
        "    h5 {\n",
        "        font-family: 'Open sans',verdana,arial,sans-serif;\n",
        "    }\n",
        "    .text_cell_render h5 {\n",
        "        font-weight: 300;\n",
        "        font-style: normal;\n",
        "        color: #1d3b84;\n",
        "        font-size: 16pt;\n",
        "        margin-bottom: 0em;\n",
        "        margin-top: 1.5em;\n",
        "        display: block;\n",
        "        white-space: nowrap;\n",
        "    }\n",
        "    div.text_cell_render{\n",
        "        font-family: 'Open sans',verdana,arial,sans-serif;\n",
        "        line-height: 135%;\n",
        "        font-size: 110%;\n",
        "        width:750px;\n",
        "        margin-left:auto;\n",
        "        margin-right:auto;\n",
        "        text-align:justify;\n",
        "        text-justify:inter-word;\n",
        "    }\n",
        "    div.output_subarea.output_text.output_pyout {\n",
        "        overflow-x: auto;\n",
        "        overflow-y: scroll;\n",
        "        max-height: 300px;\n",
        "    }\n",
        "    div.output_subarea.output_stream.output_stdout.output_text {\n",
        "        overflow-x: auto;\n",
        "        overflow-y: scroll;\n",
        "        max-height: 300px;\n",
        "    }\n",
        "    code{\n",
        "      font-size: 70%;\n",
        "    }\n",
        "    .rendered_html code{\n",
        "    background-color: transparent;\n",
        "    }\n",
        "    ul{\n",
        "        margin: 2em;\n",
        "    }\n",
        "    ul li{\n",
        "        padding-left: 0.5em; \n",
        "        margin-bottom: 0.5em; \n",
        "        margin-top: 0.5em; \n",
        "    }\n",
        "    ul li li{\n",
        "        padding-left: 0.2em; \n",
        "        margin-bottom: 0.2em; \n",
        "        margin-top: 0.2em; \n",
        "    }\n",
        "    ol{\n",
        "        margin: 2em;\n",
        "    }\n",
        "    ol li{\n",
        "        padding-left: 0.5em; \n",
        "        margin-bottom: 0.5em; \n",
        "        margin-top: 0.5em; \n",
        "    }\n",
        "    ul li{\n",
        "        padding-left: 0.5em; \n",
        "        margin-bottom: 0.5em; \n",
        "        margin-top: 0.2em; \n",
        "    }\n",
        "    a:link{\n",
        "       font-weight: bold;\n",
        "       color:#447adb;\n",
        "    }\n",
        "    a:visited{\n",
        "       font-weight: bold;\n",
        "       color: #1d3b84;\n",
        "    }\n",
        "    a:hover{\n",
        "       font-weight: bold;\n",
        "       color: #1d3b84;\n",
        "    }\n",
        "    a:focus{\n",
        "       font-weight: bold;\n",
        "       color:#447adb;\n",
        "    }\n",
        "    a:active{\n",
        "       font-weight: bold;\n",
        "       color:#447adb;\n",
        "    }\n",
        "    .rendered_html :link {\n",
        "       text-decoration: underline; \n",
        "    }\n",
        "    .rendered_html :hover {\n",
        "       text-decoration: none; \n",
        "    }\n",
        "    .rendered_html :visited {\n",
        "      text-decoration: none;\n",
        "    }\n",
        "    .rendered_html :focus {\n",
        "      text-decoration: none;\n",
        "    }\n",
        "    .rendered_html :active {\n",
        "      text-decoration: none;\n",
        "    }\n",
        "    .warning{\n",
        "        color: rgb( 240, 20, 20 )\n",
        "    } \n",
        "    hr {\n",
        "      color: #f3f3f3;\n",
        "      background-color: #f3f3f3;\n",
        "      height: 1px;\n",
        "    }\n",
        "    blockquote{\n",
        "      display:block;\n",
        "      background: #fcfcfc;\n",
        "      border-left: 5px solid #c76c0c;\n",
        "      font-family: 'Open sans',verdana,arial,sans-serif;\n",
        "      width:680px;\n",
        "      padding: 10px 10px 10px 10px;\n",
        "      text-align:justify;\n",
        "      text-justify:inter-word;\n",
        "      }\n",
        "      blockquote p {\n",
        "        margin-bottom: 0;\n",
        "        line-height: 125%;\n",
        "        font-size: 100%;\n",
        "      }\n",
        "</style>\n",
        "<script>\n",
        "    MathJax.Hub.Config({\n",
        "                        TeX: {\n",
        "                           extensions: [\"AMSmath.js\"]\n",
        "                           },\n",
        "                tex2jax: {\n",
        "                    inlineMath: [ ['$','$'], [\"\\\\(\",\"\\\\)\"] ],\n",
        "                    displayMath: [ ['$$','$$'], [\"\\\\[\",\"\\\\]\"] ]\n",
        "                },\n",
        "                displayAlign: 'center', // Change this to 'center' to center equations.\n",
        "                \"HTML-CSS\": {\n",
        "                    styles: {'.MathJax_Display': {\"margin\": 4}}\n",
        "                }\n",
        "        });\n",
        "</script>\n"
       ],
       "metadata": {},
       "output_type": "pyout",
       "prompt_number": 93,
       "text": [
        "<IPython.core.display.HTML at 0x3858250>"
       ]
      }
     ],
     "prompt_number": 93
    },
    {
     "cell_type": "heading",
     "level": 2,
     "metadata": {},
     "source": [
      "Introduction"
     ]
    },
    {
     "cell_type": "markdown",
     "metadata": {},
     "source": [
      "In this chapter we will work through the design of several Kalman filters to gain experience and confidence with the various equations and techniques. \n",
      "\n",
      "For our first multidimensional problem we will track a robot in a 2D space, such as a field. We will start with a simple noisy sensor that outputs noisy $(x,y)$ coordinates which we will need to filter to generate a 2D track. Once we have mastered this concept, we will extend the problem significantly with more sensors and then adding control inputs. \n",
      "blah blah"
     ]
    },
    {
     "cell_type": "heading",
     "level": 2,
     "metadata": {},
     "source": [
      "Tracking a Robot"
     ]
    },
    {
     "cell_type": "markdown",
     "metadata": {},
     "source": [
      "This first attempt at tracking a robot will closely resemble the 1-D dog tracking problem of previous chapters. This will allow us to 'get our feet wet' with Kalman filtering. So, instead of a sensor that outputs position in a hallway, we now have a sensor that supplies a noisy measurement of position in a 2-D space, such as an open field. That is, at each time $T$ it will provide an $(x,y)$ coordinate pair specifying the measurement of the sensor's position in the field.\n",
      "\n",
      "Implemention of code to interact with real sensors is beyond the scope of this book, so as before we will program simple simuations in Python to represent the sensors. We will develop several of these sensors as we go, each with more complications, so as I program them I will just append a number to the function name. $\\verb,pos_sensor1 (),$ is the first sensor we write, and so on. \n",
      "\n",
      "So let's start with a very simple sensor, one that travels in a straight line. It takes as input the last position, velocity, and how much noise we want, and returns the new position. "
     ]
    },
    {
     "cell_type": "code",
     "collapsed": false,
     "input": [
      "import numpy.random as random\n",
      "import copy\n",
      "class PosSensor1(object):\n",
      "    def __init__(self, pos = [0,0], vel = (0,0), noise_scale = 1.):\n",
      "        self.vel = vel\n",
      "        self.noise_scale = noise_scale\n",
      "        self.pos = copy.deepcopy(pos)\n",
      "        \n",
      "    def read(self):\n",
      "        self.pos[0] += self.vel[0]\n",
      "        self.pos[1] += self.vel[1]\n",
      "        \n",
      "        return [self.pos[0] + random.randn() * self.noise_scale,\n",
      "                self.pos[1] + random.randn() * self.noise_scale]"
     ],
     "language": "python",
     "metadata": {},
     "outputs": [],
     "prompt_number": 94
    },
    {
     "cell_type": "markdown",
     "metadata": {},
     "source": [
      "A quick test to verify that it works as we expect."
     ]
    },
    {
     "cell_type": "code",
     "collapsed": false,
     "input": [
      "pos = [4,3]\n",
      "s = PosSensor1 (pos, (2,1), 1)\n",
      "\n",
      "for i in range (50):\n",
      "    pos = s.read() \n",
      "    plt.scatter(pos[0], pos[1])\n",
      "plt.show()"
     ],
     "language": "python",
     "metadata": {},
     "outputs": [
      {
       "metadata": {},
       "output_type": "display_data",
       "png": "[encoded data removed]",
       "text": [
        "<matplotlib.figure.Figure at 0x3858d90>"
       ]
      }
     ],
     "prompt_number": 95
    },
    {
     "cell_type": "markdown",
     "metadata": {},
     "source": [
      "That looks correct. The slope is 1/2, as we would expect with a velocity of (2,1), and the data seems to start at near (6,4).\n",
      "\n",
      "##### Step 1: Choose the State Variables\n",
      "\n",
      "As always, the first step is to choose our state variables. We are tracking in two dimensions and have a sensor that gives us a reading in each of those two dimensions, so we  know that we have the two *observed variables* $x$ and $y$. If we created our Kalman filter using only those two variables the performance would not be very good because we would be ignoring the information velocity can provide to us. We will want to incorporate velocity into our equations as well. I will represent this as\n",
      "\n",
      "$$\\mathbf{x} = \n",
      "\\begin{bmatrix}x\\\\v_x\\\\y\\\\v_y\\end{bmatrix}$$\n",
      "\n",
      "There is nothing special about this organization. I could have listed the (xy) coordinates first followed by the velocities, and/or I could done this as a row matrix instead of a column matrix. For example, I could have chosen:\n",
      "\n",
      "$$\\mathbf{x} = \n",
      "\\begin{bmatrix}x&y&v_x&v_y\\end{bmatrix}$$\n",
      "\n",
      "All that matters is that the rest of my derivation uses this same scheme. However, it is typical to use column matrices for state variables, and I prefer it, so that is what we will use. \n",
      "\n",
      "It might be a good time to pause and address how you identify the unobserved variables. This particular example is somewhat obvious because we already worked through the 1D case in the previous chapters. Would it be so obvious if we were filtering market data, population data from a biology experiement, and so on? Probably not. There is no easy answer to this question. The first thing to ask yourself is what is the interpretation of the first and second derivatives of the data from the sensors. We do that because obtaining the first and second derivatives is mathematically trivial if you are reading from the sensors using a fixed time step. The first derivative is just the difference between two successive readings. In our tracking case the first derivative has an obvious physical interpretation: the difference between two successive positions is velocity. \n",
      "\n",
      "Beyond this you can start looking at how you might combine the data from two or more different sensors to produce more information. This opens up the field of *sensor fusion*, and we will be covering examples of this in later sections. For now, recognize that choosing the appropriate state variables is paramount to getting the best possible performance from your filter. "
     ]
    },
    {
     "cell_type": "markdown",
     "metadata": {},
     "source": [
      "##### **Step 2:** Design State Transition Function\n",
      "\n",
      "Our next step is to design the state transistion function. Recall that the state transistion function is implemented as a matrix $\\mathbf{F}$ that we multipy with the previous state of our system to get the next state, like so. \n",
      "\n",
      "$$\\mathbf{x}' = \\mathbf{Fx}$$\n",
      "\n",
      "I will not belabor this as it is very similar to the 1-D case we did in the previous chapter. Our state equations for position and velocity would be:\n",
      "\n",
      "$$\n",
      "\\begin{aligned}\n",
      "x' &= (1*x) + (\\Delta t * v_x) + (0*y) + (0 * v_y) \\\\\n",
      "v_x &= (0*x) +  (1*v_x) + (0*y) + (0 * v_y) \\\\\n",
      "y' &= (0*x) + (0* v_x)         + (1*y) + (\\Delta t * v_y) \\\\\n",
      "v_y &= (0*x) +  (0*v_x) + (0*y) + (1 * v_y)\n",
      "\\end{aligned}\n",
      "$$\n"
     ]
    },
    {
     "cell_type": "markdown",
     "metadata": {},
     "source": [
      "Laying it out that way shows us both the values and row-column organization required for $\\small\\mathbf{F}$. In linear algebra, we would write this as:\n",
      "\n",
      "$$\n",
      "\\begin{bmatrix}x\\\\v_x\\\\y\\\\v_y\\end{bmatrix}' = \\begin{bmatrix}1& \\Delta t& 0& 0\\\\0& 1& 0& 0\\\\0& 0& 1& \\Delta t\\\\ 0& 0& 0& 1\\end{bmatrix}\\begin{bmatrix}x\\\\v_x\\\\y\\\\v_y\\end{bmatrix}$$\n",
      "\n",
      "So, let's do this in Python. It is very simple; the only thing new here is setting $\\vert,dim_z,$ to 2. We will see why it is set to 2 in step 4."
     ]
    },
    {
     "cell_type": "code",
     "collapsed": false,
     "input": [
      "from KalmanFilter import KalmanFilter\n",
      "import numpy as np\n",
      "\n",
      "f1 = KalmanFilter(dim_x=4, dim_z=2)\n",
      "dt = 1.   # time step\n",
      "\n",
      "f1.F = np.mat ([[1, dt, 0,  0],\n",
      "                [0,  1, 0,  0],\n",
      "                [0,  0, 1, dt],\n",
      "                [0,  0, 0,  1]])"
     ],
     "language": "python",
     "metadata": {},
     "outputs": [],
     "prompt_number": 96
    },
    {
     "cell_type": "markdown",
     "metadata": {},
     "source": [
      "##### **Step 3**: Design the Motion Function\n",
      "We have no control inputs to our robot (yet!), so this step is trivial - set the motion transition function $\\small\\mathbf{B}$ to zero. This is done for us by the class when it is created so we can skip this step, but for completeness we will be explicit."
     ]
    },
    {
     "cell_type": "code",
     "collapsed": false,
     "input": [
      "f1.B = 0."
     ],
     "language": "python",
     "metadata": {},
     "outputs": [],
     "prompt_number": 97
    },
    {
     "cell_type": "markdown",
     "metadata": {},
     "source": [
      "\n",
      "##### **Step 4**: Design the Measurement Function\n",
      "The measurement function defines how we go from the state variables to the measurements using the equation $\\mathbf{z} = \\mathbf{Hx}$. At first this is a bit counterintuitive, after all, we use the Kalman filter to go from measurements to state. But the update step needs to compute the residual between the current measurement and the measurement represented by the prediction step. Therefore $\\textbf{H}$ is multiplied by the state $\\textbf{x}$ to produce a measurement $\\textbf{z}$. \n",
      "\n",
      "In this case we have measurements for (x,y), so z must be of dimension $2\\times 1$. Our state variable is size $4\\times 1$. We can deduce the required size for $\\textbf{H}$ by recalling that multiplying a matrix of size $m\\times n$ by $n\\times p$ yields a matrix of size $m\\times p$. Thus,\n",
      "\n",
      "$$ \n",
      "\\begin{aligned}\n",
      "(2\\times 1) &= (a\\times b)(4 \\times 1) \\\\\n",
      "&= (a\\times 4)(4\\times 1) \\\\\n",
      "&= (2\\times 4)(4\\times 1)\n",
      "\\end{aligned}$$\n",
      "\n",
      "So, $\\textbf{H}$ is of size $2\\times 4$.\n",
      "\n",
      "Filling in the values for $\\textbf{H}$ is easy in this case because the measurement is the position of the robot, which is the $x$ and $y$ variables of the state $\\textbf{x}$. Let's make this just slightly more interesting by deciding we want to change units. So we will assume that the measurements are returned in feet, and that we desire to work in meters. Converting from feet to meters is a simple as multiplying by 0.3048. However, we are converting from state (meters) to measurements (feet) so we need to divide by 0.3048. So\n",
      "\n",
      "$$\\mathbf{H} =\n",
      "\\begin{bmatrix} \n",
      "\\frac{1}{0.3048} & 0 & 0 & 0 \\\\\n",
      "0 & 0 & \\frac{1}{0.3048} & 0\n",
      "\\end{bmatrix}\n",
      "$$"
     ]
    },
    {
     "cell_type": "markdown",
     "metadata": {},
     "source": [
      "which corresponds to these linear equations\n",
      "$$\n",
      "\\begin{aligned}\n",
      "z_x' &= (\\frac{x}{0.3048}) + (0* v_x) + (0*y) + (0 * v_y) \\\\\n",
      "z_y' &= (0*x) + (0* v_x) + (\\frac{y}{0.3048}) + (0 * v_y) \\\\\n",
      "\\end{aligned}\n",
      "$$\n",
      "\n",
      "To be clear about my intentions here, this is a pretty simple problem, and we could have easily found the equations directly without going through the dimensional analysis that I did above. In fact, an earlier draft did just that. But it is useful to remember that the equations of the Kalman filter imply a specific dimensionality for all of the matrices, and when I start to get lost as to how to design something it is often extremely useful to look at the matrix dimensions. Not sure how to design $\\textbf{H}$? \n",
      "Here is the Python that implements this:"
     ]
    },
    {
     "cell_type": "code",
     "collapsed": false,
     "input": [
      "f1.H = np.mat ([[1/0.3048, 0, 0, 0],\n",
      "               [0, 0, 1/0.3048, 0]])\n",
      "print(f1.H)"
     ],
     "language": "python",
     "metadata": {},
     "outputs": [
      {
       "output_type": "stream",
       "stream": "stdout",
       "text": [
        "[[ 3.2808399  0.         0.         0.       ]\n",
        " [ 0.         0.         3.2808399  0.       ]]\n"
       ]
      }
     ],
     "prompt_number": 98
    },
    {
     "cell_type": "markdown",
     "metadata": {},
     "source": [
      "##### **Step 5**: Design the Measurement Noise Matrix\n",
      "\n",
      "In this step we need to mathematically model the noise in our sensor. For now we will make the simple assumption that the $x$ and $y$ variables are independent Gaussian processes. That is, the noise in x is not in any way dependent on the noise in y, and the noise is normally distributed about the mean. For now let's set the variance for $x$ and $y$ to be 5 for each. They are independent, so there is no covariance, and our off diagonals will be 0. This gives us:\n",
      "\n",
      "$$\\mathbf{R} = \\begin{bmatrix}5&0\\\\0&5\\end{bmatrix}$$\n",
      "\n",
      "It is a $2{\\times}2$ matrix because we have 2 sensor inputs, and covariance matrices are always of size $n{\\times}n$ for $n$ variables. In Python we write:"
     ]
    },
    {
     "cell_type": "code",
     "collapsed": false,
     "input": [
      "f1.R = np.mat([[5,0],\n",
      "              [0, 5]])\n",
      "print (f1.R)"
     ],
     "language": "python",
     "metadata": {},
     "outputs": [
      {
       "output_type": "stream",
       "stream": "stdout",
       "text": [
        "[[5 0]\n",
        " [0 5]]\n"
       ]
      }
     ],
     "prompt_number": 99
    },
    {
     "cell_type": "markdown",
     "metadata": {},
     "source": [
      "##### Step 6: Design the Process Noise Matrix\n",
      "Finally, we design the process noise. We don't yet have a good way to model process noise, so for now we will assume there is a small amount of process noise, say 0.1 for each state variable. Later we will tackle this admittedly difficult topic in more detail. We have 4 state variables, so we need a $4{\\times}4$ covariance matrix:\n",
      "\n",
      "$$\\mathbf{Q} = \\begin{bmatrix}0.1&0&0&0\\\\0&0.1&0&0\\\\0&0&0.1&0\\\\0&0&0&0.1\\end{bmatrix}$$\n",
      "\n",
      "In Python I will use the numpy eye helper function to create an identity matrix for us, and multipy it by 0.1 to get the desired result."
     ]
    },
    {
     "cell_type": "code",
     "collapsed": false,
     "input": [
      "f1.Q = np.eye(4) * 0.1\n",
      "print(f1.Q)"
     ],
     "language": "python",
     "metadata": {},
     "outputs": [
      {
       "output_type": "stream",
       "stream": "stdout",
       "text": [
        "[[ 0.1  0.   0.   0. ]\n",
        " [ 0.   0.1  0.   0. ]\n",
        " [ 0.   0.   0.1  0. ]\n",
        " [ 0.   0.   0.   0.1]]\n"
       ]
      }
     ],
     "prompt_number": 100
    },
    {
     "cell_type": "markdown",
     "metadata": {},
     "source": [
      "##### **Step 7**: Design Initial Conditions\n",
      "\n",
      "For our simple problem we will set the initial position at (0,0) with a velocity of (0,0). Since that is a pure guess, we will set the covariance matrix $\\small\\mathbf{P}$ to a large value.\n",
      "$$ \\mathbf{x} = \\begin{bmatrix}0\\\\0\\\\0\\\\0\\end{bmatrix}\\\\\n",
      "\\mathbf{P} = \\begin{bmatrix}500&0&0&0\\\\0&500&0&0\\\\0&0&500&0\\\\0&0&0&500\\end{bmatrix}$$\n",
      "\n",
      "In Python we implement that with"
     ]
    },
    {
     "cell_type": "code",
     "collapsed": false,
     "input": [
      "f1.x = np.mat([0,0,0,0]).T\n",
      "f1.P = np.eye(4) * 500.\n",
      "print(f1.x)\n",
      "print()\n",
      "print (f1.P)"
     ],
     "language": "python",
     "metadata": {},
     "outputs": [
      {
       "output_type": "stream",
       "stream": "stdout",
       "text": [
        "[[0]\n",
        " [0]\n",
        " [0]\n",
        " [0]]\n",
        "\n",
        "[[ 500.    0.    0.    0.]\n",
        " [   0.  500.    0.    0.]\n",
        " [   0.    0.  500.    0.]\n",
        " [   0.    0.    0.  500.]]\n"
       ]
      }
     ],
     "prompt_number": 101
    },
    {
     "cell_type": "heading",
     "level": 2,
     "metadata": {},
     "source": [
      "Implement the Filter Code"
     ]
    },
    {
     "cell_type": "markdown",
     "metadata": {},
     "source": [
      "Design is complete, now we just have to write the Python code to run our filter, and output the data in the format of our choice. To keep the code clear, let's just print a plot of the track. We will run the code for 30 iterations."
     ]
    },
    {
     "cell_type": "code",
     "collapsed": false,
     "input": [
      "f1 = KalmanFilter(dim_x=4, dim_z=2)\n",
      "dt = 1.0   # time step\n",
      "\n",
      "f1.F = np.mat ([[1, dt, 0,  0],\n",
      "                [0,  1, 0,  0],\n",
      "                [0,  0, 1, dt],\n",
      "                [0,  0, 0,  1]])\n",
      "f1.B = 0.\n",
      "f1.H = np.mat ([[1/0.3048, 0, 0, 0],\n",
      "               [0, 0, 1/0.3048, 0]])\n",
      "\n",
      "f1.R = np.eye(2) * 5\n",
      "f1.Q = np.eye(4) * .1\n",
      "\n",
      "f1.x = np.mat([0,0,0,0]).T\n",
      "f1.P = np.eye(4) * 500.\n",
      "\n",
      "# initialize storage and other variables for the run\n",
      "count = 30\n",
      "xs, ys = [],[]\n",
      "pxs, pys = [],[]\n",
      "\n",
      "s = PosSensor1 ([0,0], (2,1), 1.)\n",
      "\n",
      "for i in range(count):\n",
      "    pos = s.read()\n",
      "    z = np.mat([[pos[0]],[pos[1]]])\n",
      "\n",
      "    f1.predict ()\n",
      "    f1.update (z)\n",
      "\n",
      "    xs.append (f1.x[0,0])\n",
      "    ys.append (f1.x[2,0])\n",
      "    pxs.append (pos[0]*.3048)\n",
      "    pys.append(pos[1]*.3048)\n",
      "\n",
      "p1, = plt.plot (xs, ys, 'r--')\n",
      "p2, = plt.plot (pxs, pys)\n",
      "plt.legend([p1,p2], ['filter', 'measurement'], 2)\n",
      "plt.show()"
     ],
     "language": "python",
     "metadata": {},
     "outputs": [
      {
       "metadata": {},
       "output_type": "display_data",
       "png": "[encoded data removed]",
       "text": [
        "<matplotlib.figure.Figure at 0x4493610>"
       ]
      }
     ],
     "prompt_number": 102
    },
    {
     "cell_type": "markdown",
     "metadata": {},
     "source": [
      "I encourage you to play with this, setting $\\mathbf{Q}$ and $\\mathbf{R}$ to various values.  However, we did a fair amount of that sort of thing in the last chapters, and we have a lot of material to cover, so I will move on to more complicated cases where we will also have a chance to experience changing these values.\n",
      "\n",
      "Now I will run the same Kalman filter with the same settings, but also plot the covariance ellipse for $x$ and $y$. First, the code without explanation, so we can see the output. I print the last covariance to see what it looks like. But before you scroll down to look at the results, what do you think it will look like? You have enough information to figure this out but this is still new to you, so don't be discouraged if you get it wrong."
     ]
    },
    {
     "cell_type": "code",
     "collapsed": false,
     "input": [
      "import stats\n",
      "\n",
      "f1 = KalmanFilter(dim_x=4, dim_z=2)\n",
      "dt = 1.0   # time step\n",
      "\n",
      "f1.F = np.mat ([[1, dt, 0,  0],\n",
      "                [0,  1, 0,  0],\n",
      "                [0,  0, 1, dt],\n",
      "                [0,  0, 0,  1]])\n",
      "f1.B = 0.\n",
      "f1.H = np.mat ([[1/0.3048, 0, 0, 0],\n",
      "               [0, 0, 1/0.3048, 0]])\n",
      "\n",
      "f1.R = np.eye(2) * 5\n",
      "f1.Q = np.eye(4) * .1\n",
      "\n",
      "f1.x = np.mat([0,0,0,0]).T\n",
      "f1.P = np.eye(4) * 500.\n",
      "\n",
      "# initialize storage and other variables for the run\n",
      "count = 30\n",
      "xs, ys = [],[]\n",
      "pxs, pys = [],[]\n",
      "\n",
      "s = PosSensor1 ([0,0], (2,1), 1.)\n",
      "\n",
      "for i in range(count):\n",
      "    pos = s.read()\n",
      "    z = np.mat([[pos[0]],[pos[1]]])\n",
      "\n",
      "    f1.predict ()\n",
      "    f1.update (z)\n",
      "\n",
      "    xs.append (f1.x[0,0])\n",
      "    ys.append (f1.x[2,0])\n",
      "    pxs.append (pos[0]*.3048)\n",
      "    pys.append(pos[1]*.3048)\n",
      "\n",
      "    # plot covariance of x and y\n",
      "    cov = np.mat([[f1.P[0,0], f1.P[2,0]], \n",
      "                  [f1.P[0,2], f1.P[2,2]]])\n",
      " \n",
      "    #e = stats.sigma_ellipse (cov=cov, x=f1.x[0,0], y=f1.x[2,0])\n",
      "    #stats.plot_sigma_ellipse(ellipse=e)\n",
      "    stats.plot_covariance_ellipse((f1.x[0,0], f1.x[2,0]), cov=cov)\n",
      "\n",
      "        \n",
      "p1, = plt.plot (xs, ys, 'r--')\n",
      "p2, = plt.plot (pxs, pys)\n",
      "plt.legend([p1,p2], ['filter', 'measurement'], 2)\n",
      "plt.show()\n",
      "print(\"final P is:\")\n",
      "print(f1.P)"
     ],
     "language": "python",
     "metadata": {},
     "outputs": [
      {
       "metadata": {},
       "output_type": "display_data",
       "png": "[encoded data removed]",
       "text": [
        "<matplotlib.figure.Figure at 0x3d21dd0>"
       ]
      },
      {
       "output_type": "stream",
       "stream": "stdout",
       "text": [
        "final P is:\n",
        "[[ 0.30660483  0.12566239  0.          0.        ]\n",
        " [ 0.12566239  0.24399092  0.          0.        ]\n",
        " [ 0.          0.          0.30660483  0.12566239]\n",
        " [ 0.          0.          0.12566239  0.24399092]]\n"
       ]
      }
     ],
     "prompt_number": 103
    },
    {
     "cell_type": "markdown",
     "metadata": {},
     "source": [
      "Did you correctly predict what the covariance matrix and plots would look like? Perhaps you were expecting a tilted ellipse, as in the last chapters. If so, recall that in those chapters we were not plotting $x$ against $y$, but $x$ against $\\dot{x}$. $x$ *is correlated* to $\\dot{x}$, but $x$ is not correlated or dependent on $y$. Therefore our ellipses are not tilted. Furthermore, the noise for both $x$ and $y$ are modelled to have the same value, 5, in $\\mathbf{R}$. If we were to set R to, for example,\n",
      "\n",
      "$$\\mathbf{R} = \\begin{bmatrix}10&0\\\\0&5\\end{bmatrix}$$\n",
      "\n",
      "we would be telling the Kalman filter that there is more noise in $x$ than $y$, and our ellipses would be longer than they are tall.\n"
     ]
    },
    {
     "cell_type": "markdown",
     "metadata": {},
     "source": [
      "The final P tells us everything we need to know about the correlation beween the state variables. If we look at the diagonal alone we see the variance for each variable. In other words $\\mathbf{P}_{0,0}$ is the variance for x, $\\mathbf{P}_{1,1}$ is the variance for $\\dot{x}$, $\\mathbf{P}_{2,2}$ is the variance for y, and $\\mathbf{P}_{3,3}$ is the variance for $\\dot{y}$. We can extract the diagonal of a matrix using *numpy.diag()*."
     ]
    },
    {
     "cell_type": "code",
     "collapsed": false,
     "input": [
      "print(np.diag(f1.P))"
     ],
     "language": "python",
     "metadata": {},
     "outputs": [
      {
       "output_type": "stream",
       "stream": "stdout",
       "text": [
        "[ 0.30660483  0.24399092  0.30660483  0.24399092]\n"
       ]
      }
     ],
     "prompt_number": 104
    },
    {
     "cell_type": "markdown",
     "metadata": {},
     "source": [
      "The covariance matrix contains four $2{\\times}2$ matrices that you should be able to easily pick out. This is due to the correlation of $x$ to $\\dot{x}$, and of $y$ to $\\dot{y}$. The upper left hand side shows the covariance of $x$ to $\\dot{x}$. Let's extract and print, and plot it."
     ]
    },
    {
     "cell_type": "code",
     "collapsed": false,
     "input": [
      "c = f1.P[0:2,0:2]\n",
      "print(c)\n",
      "stats.plot_covariance_ellipse((0,0), cov=c)"
     ],
     "language": "python",
     "metadata": {},
     "outputs": [
      {
       "output_type": "stream",
       "stream": "stdout",
       "text": [
        "[[ 0.30660483  0.12566239]\n",
        " [ 0.12566239  0.24399092]]\n"
       ]
      },
      {
       "metadata": {},
       "output_type": "display_data",
       "png": "[encoded data removed]",
       "text": [
        "<matplotlib.figure.Figure at 0x3362c90>"
       ]
      }
     ],
     "prompt_number": 105
    },
    {
     "cell_type": "markdown",
     "metadata": {},
     "source": [
      "The covariance contains the data for $x$ and $\\dot{x}$ in the upper left because of how it is organized. Recall that entries $\\mathbf{P}_{i,j}$ and $\\mathbf{P}_{j,i}$ contain $p\\sigma_1\\sigma_2$.\n",
      "\n",
      "Finally, let's look at the lower left side of $\\mathbf{P}$, which is all 0s. Why 0s? Consider $\\mathbf{P}_{3,0}$. That stores the term $p\\sigma_3\\sigma_0$, which is the covariance between $\\dot{y}$ and $x$. These are independent, so the term will be 0. The rest of the terms are for similarly independent variables."
     ]
    },
    {
     "cell_type": "heading",
     "level": 2,
     "metadata": {},
     "source": [
      "Tracking a Ball"
     ]
    },
    {
     "cell_type": "markdown",
     "metadata": {},
     "source": [
      "Now let's turn our attention to a situation where the physics of the object that we are tracking is constrained. A ball thrown in a vacuum must obey Newtonian laws. In a constant gravitational field it will travel in a parabola. I will assume you are familiar with the derivation of the formula:\n",
      "\n",
      "$$\n",
      "\\begin{aligned}\n",
      "y &= \\frac{g}{2}t^2 + v_{y0} t + y_0 \\\\\n",
      "x &= v_{x0} t + x_0\n",
      "\\end{aligned}\n",
      "$$\n",
      "\n",
      "where $g$ is the gravational constant, $t$ is time, $v_{x0}$ and $v_{y0}$ are the initial velocities in the x and y plane. If the ball is thrown with an initial velocity of $v$ at angle $\\theta$ above the horizon, we can compute $v_{x0}$ and $v_{y0}$ as\n",
      "\n",
      "$$\n",
      "\\begin{aligned}\n",
      "v_{x0} = v \\cos{\\theta} \\\\\n",
      "v_{y0} = v \\sin{\\theta}\n",
      "\\end{aligned}\n",
      "$$"
     ]
    },
    {
     "cell_type": "markdown",
     "metadata": {},
     "source": [
      "Because we don't have real data we will start by writing a simulator for a ball. As always, we add a noise term independent of time so we can simulate noise sensors."
     ]
    },
    {
     "cell_type": "code",
     "collapsed": false,
     "input": [
      "from math import radians, sin, cos\n",
      "class BallTrajectory2D(object):\n",
      "    def __init__(self, x0, y0, velocity, theta_deg=0., g=9.8, noise=[0.0,0.0]):\n",
      "        theta = radians(theta_deg)\n",
      "        self.vx0 = velocity * cos(theta)\n",
      "        self.vy0 = velocity * sin(theta)\n",
      "        \n",
      "        self.x0 = x0\n",
      "        self.y0 = y0\n",
      "        \n",
      "        self.g = g\n",
      "        self.noise = noise\n",
      "        \n",
      "    def position(self, t):\n",
      "        \"\"\" returns (x,y) tuple of ball position at time t\"\"\"\n",
      "        \n",
      "        x = self.vx0*t + self.x0\n",
      "        y = -0.5*self.g*t**2 + self.vy0*t + self.y0\n",
      "        \n",
      "        return (x +random.randn()*self.noise[0], y +random.randn()*self.noise[1])"
     ],
     "language": "python",
     "metadata": {},
     "outputs": [],
     "prompt_number": 106
    },
    {
     "cell_type": "markdown",
     "metadata": {},
     "source": [
      "So to create a trajectory starting at (0,15) with a velocity of $60 \\frac{m}{s}$ and an angle of $65^\\circ$ we would write:\n",
      "\n",
      "    traj = BallTrajectory2D (x0=0, y0=15, velocity=100, theta_deg=60)\n",
      "    \n",
      "and then call $\\verb,traj.position(t),$ for each time step. Let's test this "
     ]
    },
    {
     "cell_type": "code",
     "collapsed": false,
     "input": [
      "def test_ball_vacuum(noise):\n",
      "    y = 15\n",
      "    x = 0\n",
      "    ball = BallTrajectory2D(x0=x, y0=y, theta_deg=60., velocity=100., noise=noise)\n",
      "    t = 0\n",
      "    dt = 0.25\n",
      "    while y >= 0:\n",
      "        x,y = ball.position(t)\n",
      "        t += dt\n",
      "        if y >= 0:\n",
      "            plt.scatter(x,y)\n",
      "         \n",
      "    plt.axis('equal')\n",
      "    plt.show()\n",
      "    \n",
      "test_ball_vacuum([0,0]) # plot ideal ball position\n",
      "test_ball_vacuum([1,1]) # plot with noise "
     ],
     "language": "python",
     "metadata": {},
     "outputs": [
      {
       "metadata": {},
       "output_type": "display_data",
       "png": "[encoded data removed]",
       "text": [
        "<matplotlib.figure.Figure at 0x3369c90>"
       ]
      },
      {
       "metadata": {},
       "output_type": "display_data",
       "png": "[encoded data removed]",
       "text": [
        "<matplotlib.figure.Figure at 0x3f46290>"
       ]
      }
     ],
     "prompt_number": 107
    },
    {
     "cell_type": "markdown",
     "metadata": {},
     "source": [
      "test_ball_vacuum([3,0]) # plot with noise in x onlyThis looks reasonable, so let's continue (excercise for the reader: validate this simulation more robustly)."
     ]
    },
    {
     "cell_type": "heading",
     "level": 5,
     "metadata": {},
     "source": [
      "Step 1: Choose the State Variables"
     ]
    },
    {
     "cell_type": "markdown",
     "metadata": {},
     "source": [
      "We might think to use the same state variables as used for tracking the dog. However, this will not work. Recall that the Kalman filter state transition must be written as $\\mathbf{x}' = \\mathbf{F x}$, which means we must calculate the current state from the previous state. Our assumption is that the ball is travelling in a vacuum, so the velocity in x is a constant, and the acceleration in y is solely due to the gravitational constant $g$. We can discretize the Newtonian equations using the well known Euler method in terms of $\\Delta t$ are:\n",
      "\n",
      "$$\\begin{aligned}\n",
      "x_t &=  v_{x(t-1)} {\\Delta t} \\\\\n",
      "v_{xt} &= vx_{t-1}\n",
      "\\\\\n",
      "y_t &= -\\frac{g}{2} {\\Delta t}^2 + vy_{t-1} {\\Delta t} + y_{t-1} \\\\\n",
      "v_{yt} &= -g {\\Delta t} + v_{y(t-1)} \\\\\n",
      "\\end{aligned}\n",
      "$$\n",
      "> **sidebar**: *Euler's method integrates a differential equation stepwise by assuming the slope (derivative) is constant at time $t$. In this case the derivative of the position is velocity. At each time step $\\Delta t$ we assume a constant velocity, compute the new position, and then update the velocity for the next time step. There are more accurate methods, such as Runge-Kutta available to us, but because we are updating the state with a measurement in each step Euler's method is very accurate.*\n",
      "\n",
      "This implies that we need to incorporate acceleration for $y$ into the Kalman filter, but not for $x$. This suggests the following state variables.\n",
      "\n",
      "$$\n",
      "\\mathbf{x} = \n",
      "\\begin{bmatrix}\n",
      "x \\\\\n",
      "\\dot{x} \\\\\n",
      "y \\\\\n",
      "\\dot{y} \\\\\n",
      "\\ddot{y}\n",
      "\\end{bmatrix}\n",
      "$$"
     ]
    },
    {
     "cell_type": "heading",
     "level": 5,
     "metadata": {},
     "source": [
      "**Step 2:**  Design State Transition Function"
     ]
    },
    {
     "cell_type": "markdown",
     "metadata": {},
     "source": [
      "Our next step is to design the state transistion function. Recall that the state transistion function is implemented as a matrix $\\mathbf{F}$ that we multipy with the previous state of our system to get the next state$\\mathbf{x}' = \\mathbf{Fx}$.\n",
      "\n",
      "I will not belabor this as it is very similar to the 1-D case we did in the previous chapter. Our state equations for position and velocity would be:\n",
      "\n",
      "$$\n",
      "\\begin{aligned}\n",
      "x' &= (1*x) + (\\Delta t * v_x) + (0*y) + (0 * v_y) + (0 * a_y) \\\\\n",
      "v_x &= (0*x) +  (1*v_x) + (0*y) + (0 * v_y) + (0 * a_y) \\\\\n",
      "y' &= (0*x) + (0* v_x)         + (1*y) + (\\Delta t * v_y) + (\\frac{1}{2}{\\Delta t}^2*a_y)  \\\\\n",
      "v_y &= (0*x) +  (0*v_x) + (0*y) + (1*v_y) + (\\Delta t * a_y) \\\\\n",
      "a_y &= (0*x) +  (0*v_x) + (0*y) + (0*v_y) + (1 * a_y) \n",
      "\\end{aligned}\n",
      "$$\n",
      "\n",
      "Note that none of the terms include $g$, the gravitational constant. This is because the state variable $\\ddot{y}$ will be initialized with $g$, or -9.81. Thus the function $\\mathbf{F}$ will propagate $g$ through the equations correctly. \n",
      "\n",
      "In matrix form we write this as:\n",
      "\n",
      "$$\n",
      "\\mathbf{F} = \\begin{bmatrix}\n",
      "1 & \\Delta t & 0 & 0 & 0 \\\\\n",
      "0 & 1 & 0 & 0 & 0 \\\\\n",
      "0 & 0 & 1 & \\Delta t & \\frac{1}{2}{\\Delta t}^2 \\\\\n",
      "0 & 0 & 0 & 1 & \\Delta t \\\\\n",
      "0 & 0 & 0 & 0 & 1\n",
      "\\end{bmatrix}\n",
      "$$"
     ]
    },
    {
     "cell_type": "heading",
     "level": 5,
     "metadata": {},
     "source": [
      "Interlude: Test State Transition"
     ]
    },
    {
     "cell_type": "markdown",
     "metadata": {},
     "source": [
      "The Kalman filter class provides us with useful defaults for all of the class variables, so let's take advantage of that and test the state transistion function before continuing. Here we construct a filter as specified in Step 2 above. We compute the initial velocity in x and y using trigonometry, and then set the initial condition for $x$. "
     ]
    },
    {
     "cell_type": "code",
     "collapsed": false,
     "input": [
      "from KalmanFilter import KalmanFilter\n",
      "from math import sin,cos,radians\n",
      "\n",
      "def ball_kf(x, y, omega, v0, dt):\n",
      "\n",
      "    g = 9.8 # gravitational constant\n",
      "\n",
      "    f1 = KalmanFilter(dim_x=5, dim_z=2)\n",
      "\n",
      "\n",
      "    ay = .5*dt**2\n",
      "\n",
      "    f1.F = np.mat ([[1, dt,  0,  0,  0],   # x   = x0+dx*dt\n",
      "                    [0,  1,  0,  0,  0],   # dx  = dx\n",
      "                    [0,  0,  1, dt, ay],   # y   = y0 +dy*dt+1/2*g*dt^2\n",
      "                    [0,  0,  0,  1, dt],   # dy  = dy0 + ddy*dt \n",
      "                    [0,  0,  0,  0, 1]])   # ddy = -g.\n",
      "    \n",
      "    # compute velocity in x and y\n",
      "    omega = radians(omega)\n",
      "    vx = cos(omega) * v0\n",
      "    vy = sin(omega) * v0\n",
      "\n",
      "    f1.x = np.mat([x, vx, y, vy, -g]).T\n",
      "    \n",
      "    return f1"
     ],
     "language": "python",
     "metadata": {},
     "outputs": [],
     "prompt_number": 108
    },
    {
     "cell_type": "markdown",
     "metadata": {},
     "source": [
      "Now we can test the filter by calling predict until $y=0$, which corresponds to the ball hitting the ground. We will graph the output against the idealized computation of the ball's position. If the model is correct, the Kalman filter prediction should match the ideal model very closely. We will draw the ideal position with a green circle, and the Kalman filter's output with '+' marks."
     ]
    },
    {
     "cell_type": "code",
     "collapsed": false,
     "input": [
      "y = 15.\n",
      "x = 0.\n",
      "theta = 20. # launch angle\n",
      "v0 = 100.\n",
      "dt = 0.1   # time step\n",
      "\n",
      "ball = BallTrajectory2D(x0=x, y0=y, theta_deg=theta, velocity=v0, noise=[0,0])\n",
      "f1 = ball_kf(x,y,theta,v0,dt)\n",
      "\n",
      "t = 0\n",
      "while f1.x[2,0] > 0:\n",
      "    t += dt\n",
      "    f1.predict() \n",
      "    x,y = ball.position(t)\n",
      "    p1 = plt.scatter(f1.x[0,0], f1.x[2,0], color='black', marker='+', s=75)\n",
      "    p2 = plt.scatter(x, y,                 color='green', marker='o', s=75, alpha=0.5)\n",
      "\n",
      "plt.legend([p1,p2], ['Kalman filter', 'idealized'])\n",
      "plt.show()"
     ],
     "language": "python",
     "metadata": {},
     "outputs": [
      {
       "metadata": {},
       "output_type": "display_data",
       "png": "[encoded data removed]",
       "text": [
        "<matplotlib.figure.Figure at 0x3870bd0>"
       ]
      }
     ],
     "prompt_number": 109
    },
    {
     "cell_type": "markdown",
     "metadata": {},
     "source": [
      "As we can see, the Kalman filter agrees with the physics model very closely. If you are interested in pursuing this further, try altering the initial velocity, the size of dt, and $\\theta$, and plot the error at each step. However, the important point is to test your design as soon as possible; if the design of the state transistion is wrong all subsequent effort may be wasted. More importantly, it can be extremely difficult to tease out an error in the state transition function when the filter incorporates measurment updates."
     ]
    },
    {
     "cell_type": "heading",
     "level": 5,
     "metadata": {},
     "source": [
      "**Step 3**: Design the Motion Function"
     ]
    },
    {
     "cell_type": "markdown",
     "metadata": {},
     "source": [
      "We have no control inputs to the ball flight, so this step is trivial - set the motion transition function $\\small\\mathbf{B}=0$. This is done for us by the class when it is created so we can skip this step."
     ]
    },
    {
     "cell_type": "heading",
     "level": 5,
     "metadata": {},
     "source": [
      "**Step 4**: Design the Measurement Function"
     ]
    },
    {
     "cell_type": "markdown",
     "metadata": {},
     "source": [
      "The measurement function defines how we go from the state variables to the measurements using the equation $\\mathbf{z} = \\mathbf{Hx}$. We will assume that we have a sensor that provides us with the position of the ball in (x,y), but cannot measure velocities or accelerations. Therefore our function must be:\n",
      "\n",
      "$$\n",
      "\\begin{bmatrix}z_x \\\\ z_y \\end{bmatrix}= \n",
      "\\begin{bmatrix}\n",
      "1 & 0 & 0 & 0 & 0 \\\\\n",
      "0 & 0 & 1 & 0 & 0\n",
      "\\end{bmatrix} * \n",
      "\\begin{bmatrix}\n",
      "x \\\\\n",
      "\\dot{x} \\\\\n",
      "y \\\\\n",
      "\\dot{y} \\\\\n",
      "\\ddot{y}\\end{bmatrix}$$\n",
      "\n",
      "where\n",
      "\n",
      "$$\\mathbf{F} = \\begin{bmatrix}\n",
      "1 & 0 & 0 & 0 & 0 \\\\\n",
      "0 & 0 & 1 & 0 & 0\n",
      "\\end{bmatrix}$$"
     ]
    },
    {
     "cell_type": "heading",
     "level": 5,
     "metadata": {},
     "source": [
      "**Step 5**: Design the Measurement Noise Matrix"
     ]
    },
    {
     "cell_type": "markdown",
     "metadata": {},
     "source": [
      "As with the robot, we will assume that the error is independent in $x$ and $y$. In this case we will start by assuming that the measurement error in x and y are 0.5 meters. Hence,\n",
      "\n",
      "$$\\mathbf{R} = \\begin{bmatrix}0.5&0\\\\0&0.5\\end{bmatrix}$$"
     ]
    },
    {
     "cell_type": "markdown",
     "metadata": {},
     "source": [
      "##### Step 6: Design the Process Noise Matrix\n",
      "Finally, we design the process noise. As with the robot tracking example, we don't yet have a good way to model process noise. However, we are assuming a ball moving in a vacuum, so there should be little to no process noise. For now we will assume the process noise is 0.02 for each state variable. This is a bit silly - if we were in a perfect vacuum then our predictions would be perfect, and we would have no need for a Kalman filter. We will soon alter this example to be more realistic by incorporating air drag and ball spin. \n",
      "\n",
      "We have 5 state variables, so we need a $5{\\times}5$ covariance matrix:\n",
      "\n",
      "$$\\mathbf{Q} = \\begin{bmatrix}0.02&0&0&0&0\\\\0&0.02&0&0&0\\\\0&0&0.02&0&0\\\\0&0&0&0.02&0\\\\0&0&0&0&0.02\\end{bmatrix}$$"
     ]
    },
    {
     "cell_type": "markdown",
     "metadata": {},
     "source": [
      "##### Step 7: Design the Initial Conditions\n",
      "\n",
      "We already performed this step when we tested the state transistion function. Recall that we computed the initial velocity for $x$ and $y$ using trigonometry, and set the value of $\\mathbf{x}$ with:\n",
      "\n",
      "    omega = radians(omega)\n",
      "    vx = cos(omega) * v0\n",
      "    vy = sin(omega) * v0\n",
      "\n",
      "    f1.x = np.mat([x, vx, y, vy, -g]).T\n",
      "    \n",
      "    \n",
      "With all the steps done we are ready to implement our filter and test it. First, the implementation:"
     ]
    },
    {
     "cell_type": "code",
     "collapsed": false,
     "input": [
      "from KalmanFilter import KalmanFilter\n",
      "from math import sin,cos,radians\n",
      "\n",
      "def ball_kf(x, y, omega, v0, dt):\n",
      "\n",
      "    g = 9.8 # gravitational constant\n",
      "\n",
      "    f1 = KalmanFilter(dim_x=5, dim_z=2)\n",
      "\n",
      "\n",
      "    ay = .5*dt**2\n",
      "\n",
      "    f1.F = np.mat ([[1, dt,  0,  0,  0],   # x   = x0+dx*dt\n",
      "                    [0,  1,  0,  0,  0],   # dx  = dx\n",
      "                    [0,  0,  1, dt, ay],   # y   = y0 +dy*dt+1/2*g*dt^2\n",
      "                    [0,  0,  0,  1, dt],   # dy  = dy0 + ddy*dt \n",
      "                    [0,  0,  0,  0, 1]])   # ddy = -g.\n",
      "\n",
      "    f1.H = np.mat([\n",
      "                [1, 0, 0, 0, 0],\n",
      "                [0, 0, 1, 0, 0]])\n",
      "    \n",
      "    f1.R *= 0.5\n",
      "    f1.Q *= 0.02\n",
      "\n",
      "    omega = radians(omega)\n",
      "    vx = cos(omega) * v0\n",
      "    vy = sin(omega) * v0\n",
      "\n",
      "    f1.x = np.mat([x,vx,y,vy,-9.8]).T\n",
      "    \n",
      "    return f1"
     ],
     "language": "python",
     "metadata": {},
     "outputs": [],
     "prompt_number": 110
    },
    {
     "cell_type": "markdown",
     "metadata": {},
     "source": [
      "Now we will test the filter by generating measurements for the ball using the ball simulation class."
     ]
    },
    {
     "cell_type": "code",
     "collapsed": false,
     "input": [
      "y = 15.\n",
      "x = 0.\n",
      "theta = 20. # launch angle\n",
      "v0 = 100.\n",
      "dt = 1/10.   # time step\n",
      "\n",
      "ball = BallTrajectory2D(x0=x, y0=y, theta_deg=theta, velocity=v0, noise=[1,1])\n",
      "f1 = ball_kf(x,y,theta,v0,dt)\n",
      "\n",
      "t = 0\n",
      "xs = []\n",
      "ys = []\n",
      "while f1.x[2,0] > 0:\n",
      "    t += dt\n",
      "    x,y = ball.position(t)\n",
      "    z = np.mat([[x,y]]).T\n",
      "\n",
      "    f1.update(z)\n",
      "    xs.append(f1.x[0,0])\n",
      "    ys.append(f1.x[2,0])\n",
      "    \n",
      "    f1.predict() \n",
      "    \n",
      "    #p1 = plt.scatter(f1.x[0,0], f1.x[2,0], color='black', marker='+', s=75)\n",
      "    p1 = plt.scatter(x, y,                 color='green', marker='o', s=75, alpha=0.5)\n",
      "\n",
      "p2, = plt.plot (xs, ys,lw=2)\n",
      "plt.legend([p2,p1], ['Kalman filter', 'Measurements'])\n",
      "plt.show()"
     ],
     "language": "python",
     "metadata": {},
     "outputs": [
      {
       "metadata": {},
       "output_type": "display_data",
       "png": "[encoded data removed]",
       "text": [
        "<matplotlib.figure.Figure at 0x4a324d0>"
       ]
      }
     ],
     "prompt_number": 111
    },
    {
     "cell_type": "markdown",
     "metadata": {},
     "source": [
      "We see that the Kalman filter reasonably tracks the ball. However, as already explained, this is a silly example; we can predict trajectories in a vacuum with arbitrary precision; using a Kalman filter in this example is a needless complication."
     ]
    },
    {
     "cell_type": "heading",
     "level": 2,
     "metadata": {},
     "source": [
      "Tracking a Ball in Air"
     ]
    },
    {
     "cell_type": "markdown",
     "metadata": {},
     "source": [
      "We are now ready to design a practical Kalman filter application. For this problem we assume that we are tracking a ball travelling through the Earth's atmosphere. The path of the ball is influenced by wind, drag, and the rotation of the ball. We will assume that our sensor is a camera; code that we will not implement will perform some type of image processing to detect the position of the ball. This is typically called *blob detection* in computer vision. However, image processing code is not perfect; in any given frame it is possible to either detect no blob or to detect spurious blobs that do not correspond to the ball. Finally, we will not assume that we know the starting position, angle, or rotation of the ball; the tracking code will have to initiate tracking based on the measurements that are provided. The main simplification that we are making here is a 2D world; we assume that the ball is always travelling orthogonal to the plane of the camera's sensor. We have to make that simplification at this point because we have not yet discussed how we might extract 3D information from a camera, which necessarily provides only 2D data. \n",
      "\n",
      "Our first step is to learn the math for a ball moving through air. There are several treatments available. A robust solution takes into account issues such as ball roughness (which affects drag non-linearly depending on velocity), the Magnus effect (spin causes one side of the ball to have higher velocity relative to the air vs the opposite side, so the coefficient of drag differs on opposite sides), the effect of lift, humidity, air density, and so on. I assume the reader is not interested in the details of ball physics, and so will restrict this treatment to the effect of air drag on a nonspinning, smooth ball, such as a cannonball.  I will use the math developed by Nicholas Giordano and Hisao Nakanishi in *Computational Physics*  [1997]. \n",
      "\n",
      "A ball moving through air encounters wind resistance. This imparts a force on the wall, called *drag*, which alters the flight of the ball. In Giordano this is denoted as\n",
      "\n",
      "$$F_{drag} = -B_2v^2$$\n",
      "\n",
      "where $B_2$ is a coefficient derived experimentally, and $v$ is the velocity of the object. $F_{drag}$ can be factored into $x$ and $y$ components with\n",
      "\n",
      "$$F_{drag,x} = -B_2v v_x\\\\\n",
      "F_{drag,y} = -B_2v v_y\n",
      "$$\n",
      "\n",
      "If $m$ is the mass of the ball, we can use $F=ma$ to compute the acceleration as\n",
      "\n",
      "$$ a_x = -\\frac{B_2}{m}v v_x\\\\\n",
      "a_y = -\\frac{B_2}{m}v v_y$$\n",
      "\n",
      "Giordano provides this function for $\\frac{B_2}{m}$, which takes air density, the cross section of a baseball, and its roughness into account. Understand that this is an approximation based on wind tunnel tests and several simplifying assumptions. \n",
      "\n",
      "$$\\frac{B_2}{m} = 0.0039 + \\frac{0.0058}{1+e^{(v-35)/5}}$$\n",
      "\n",
      "\n"
     ]
    },
    {
     "cell_type": "code",
     "collapsed": false,
     "input": [
      "from math import sqrt, exp\n",
      "def a_drag(v):\n",
      "    #return 4.0E-5 * v\n",
      "    return 0.0039 + 0.0058 / (1. + exp((v-35.)/5.))\n",
      "\n",
      "mph_to_m_s = 0.447 # mph to meters/sec\n",
      "v = 50\n",
      "y = 1\n",
      "x = 0\n",
      "dt = .001\n",
      "theta = radians(35)\n",
      "\n",
      "def solve(x,y,v, v_wind):\n",
      "    vx = v*cos(theta)\n",
      "    vy = v*sin(theta)\n",
      "    while y >= 0:\n",
      "        # Euler equations for x and y\n",
      "        x += vx*dt\n",
      "        y += vy*dt\n",
      "\n",
      "        # force due to air drag    \n",
      "        v = sqrt ((vx-v_wind)**2 + vy**2)    \n",
      "        F = a_drag(v)*v\n",
      "\n",
      "        # euler's equations for vx and vy\n",
      "        vx = vx - F*(vx-v_wind)*dt\n",
      "        vy = vy - 9.8*dt - F*vy*dt\n",
      "    \n",
      "        #plt.scatter(x,y)\n",
      "    return x, y\n",
      "        \n",
      "x,y = solve(0, 1, v, 10*mph_to_m_s)\n",
      "x2,y2 = solve(0, 1, v, -10*mph_to_m_s)\n",
      "print (x,x2)\n",
      "(x-x2)*3.28"
     ],
     "language": "python",
     "metadata": {},
     "outputs": [
      {
       "output_type": "stream",
       "stream": "stdout",
       "text": [
        "132.904542049 115.061343571\n"
       ]
      },
      {
       "metadata": {},
       "output_type": "pyout",
       "prompt_number": 289,
       "text": [
        "58.52569100894303"
       ]
      }
     ],
     "prompt_number": 289
    },
    {
     "cell_type": "heading",
     "level": 2,
     "metadata": {},
     "source": [
      "Realistic 2D Position Sensors"
     ]
    },
    {
     "cell_type": "markdown",
     "metadata": {},
     "source": [
      "The position sensor in the last example are not very realistic. In general there is no 'raw' sensor that provides (x,y) coordinates. We have GPS, but GPS already uses a Kalman filter to create a filtered output; we should not be able to improve the signal by passing it through another Kalman filter unless we incorporate additional sensors to provide additional information. We will tackle that problem later. \n",
      "\n",
      "Consider the following set up. In an open field we put two transmitters at a known location, each transmitting a signal that we can detect. We process the signal and determine  how far we are from that signal, with some noise. First, let's look at a visual depiction of that."
     ]
    },
    {
     "cell_type": "code",
     "collapsed": false,
     "input": [
      "\n",
      "circle1=plt.Circle((-4,0),5,color='r',fill=False,linewidth=10, alpha=.7)\n",
      "circle2=plt.Circle((4,0),5,color='b', fill=False, linewidth=5, alpha=.7)\n",
      "\n",
      "fig = plt.gcf()\n",
      "ax = fig.gca()\n",
      "\n",
      "plt.axis('equal')\n",
      "plt.xlim((-10,10))\n",
      "plt.ylim((-10,10))\n",
      "\n",
      "plt.plot ([-4,0], [0,3], 'r')\n",
      "plt.plot ([4,0], [0,3], 'b')\n",
      "plt.text(-4, -.5, \"A\", fontsize=16, horizontalalignment='center')\n",
      "plt.text(4, -.5, \"B\", fontsize=16, horizontalalignment='center')\n",
      "#plt.scatter ([-4],[0], 'r')\n",
      "\n",
      "ax.add_artist(circle1)\n",
      "ax.add_artist(circle2)\n",
      "plt.show()"
     ],
     "language": "python",
     "metadata": {},
     "outputs": [
      {
       "metadata": {},
       "output_type": "display_data",
       "png": "[encoded data removed]",
       "text": [
        "<matplotlib.figure.Figure at 0x44c8550>"
       ]
      }
     ],
     "prompt_number": 113
    },
    {
     "cell_type": "markdown",
     "metadata": {},
     "source": [
      "Here I have attempted to show transmitter A, drawn in red, at (-4,0) and a second one B, drawn in blue, at (4,0). The red and blue circles show the range from the transmitters to the robot, with the width illustrating the effect of the $1\\sigma$ angular error for each transmitter. Here I have given the red transmitter more error than the blue one. The most probable position for the robot is where the two circles intersect, which I have depicted with the red and blue lines. You will object that we have two intersections, not one, but we will see how we deal with that when we design the measurement function.\n",
      "\n",
      "This is a very common sensor set up. Aircraft still use this system to navigate, where it is called DME (Distance Measuring Equipment). Today GPS is a much more common navigation sytem, but I have worked on an aircraft where we integrated sensors like this into our filter along with the GPS, INS, altimeters, etc. We will tackle what is called *multi-sensor fusion* later; for now we will just address this simple configuration.\n",
      "\n",
      "The first step is to design our state variables. We will assume that the robot is travelling in a straight direction with constant velocity. This is unlikely to be true for a long period of time, but is acceptable for short periods of time. This does not differ from the previous problem - we will want to track the values for the robot's position and velocity. Hence,\n",
      "\n",
      "$$\\mathbf{x} = \n",
      "\\begin{bmatrix}x\\\\v_x\\\\y\\\\v_y\\end{bmatrix}$$"
     ]
    },
    {
     "cell_type": "markdown",
     "metadata": {},
     "source": [
      "The next step is to design the state transistion function. This also will be the same as the previous problem, so without further ado,\n",
      "\n",
      "$$\n",
      "\\mathbf{x}' = \\begin{bmatrix}1& \\Delta t& 0& 0\\\\0& 1& 0& 0\\\\0& 0& 1& \\Delta t\\\\ 0& 0& 0& 1\\end{bmatrix}\\mathbf{x}$$\n",
      "\n",
      "The next step is to design the control inputs. We have none, so we set ${\\mathbf{B}}=0$.\n",
      "\n",
      "The next step is to design the measurement function $\\mathbf{z} = \\mathbf{Hx}$. We can model the measurement using the Pythagorean theorem.\n",
      "\n",
      "$$\n",
      "z_a = \\sqrt{(x-x_A)^2 + (y-y_A)^2} + v_a\\\\[1em]\n",
      "z_b = \\sqrt{(x-x_B])^2 + (y-y_B)^2} + v_b\n",
      "$$\n",
      "\n",
      "where $v_a$ and $v_b$ are white noise.\n",
      "\n",
      "We see an immediate problem. The Kalman filter is designed for linear equations, and this is obviously nonlinear. In the next chapters we will look at several ways to handle nonlinear problems in a robust way, but for now we will do something simpler. If we know the approximate position of the robot than we can linearize these equations around that point. I could develop the generalized mathematics for this technique now, but instead let me just present the worked example to give context to that development."
     ]
    },
    {
     "cell_type": "markdown",
     "metadata": {},
     "source": [
      "Instead of computing $\\mathbf{H}$ we will compute the partial derivative of $\\mathbf{H}$ with respect to the robot's position $\\mathbf{x}$. You are probably familiar with the concept of partial derivative, but if not, it just means how $\\mathbf{H}$ changes with respect to the robot's position.\n",
      "\n",
      "$$\\frac{\\partial\\mathbf{h}}{\\partial\\mathbf{x}}=\n",
      "\\small\\begin{bmatrix}\n",
      "\\frac{(x_r - x_A)}{\\sqrt{(x_r-x_A)^2 + (y_r-y_A)^2}} & 0 & \n",
      "\\frac{(y_r - y_A)}{\\sqrt{(x_r-x_A)^2 + (y_r-y_A)^2}} & 0 \\\\\n",
      "\\frac{(x_r - x_B)}{\\sqrt{(x_r-x_B)^2 + (y_r-y_B)^2}} & 0 &\n",
      "\\frac{(y_r - y_B)}{\\sqrt{(x_r-x_B)^2 + (y_r-y_B)^2}} & 0 \\\\\n",
      "\\end{bmatrix}\n",
      "$$"
     ]
    },
    {
     "cell_type": "markdown",
     "metadata": {},
     "source": [
      "In a nutshell, the entry (0,0) contains the difference between the x coordinate of the robot and transmitter A's x coordinate divided by the distance between the robot and A. (2,0) contains the same, except for the y coordintates of the robot and transmitters. The bottom row contains the same computations, except for transmitter B. The 0 entries account for the velocity components of the state variables; naturally the range does notvide us with velocity.\n",
      "\n",
      "The values in this matrix change as the robot's position changes, so this is no longer a constant; we will have to recompute it for every time step of the filter.\n",
      "\n",
      "If you look at this you may realize that this is just a computation of x/dist and y/dist, so we can switch this to a trigometic form with no loss of generality:\n",
      "\n",
      "$$\\frac{\\partial\\mathbf{h}}{\\partial\\mathbf{x}}=\n",
      "\\begin{bmatrix}\n",
      "-\\cos{\\theta_A} & 0 & -\\sin{\\theta_A} & 0 \\\\\n",
      "-\\cos{\\theta_B} & 0 & -\\sin{\\theta_B} & 0\n",
      "\\end{bmatrix}\n",
      "$$\n",
      "\n",
      "However, this raises a huge problem. We are no longer computing $\\mathbf{H}$, but $\\Delta\\mathbf{H}$, the change of $\\mathbf{H}$. If we passed this into our Kalman filter without altering the rest of the design the output would be nonsense. Recall, for example, that we multiply $\\mathbf{Hx}$ to generate the measurements that would result from the given estimate of $\\mathbf{x}$ But now that $\\mathbf{H}$ is linearized around our position it contains the *change* in the measurement function. \n",
      "\n",
      "We are forced, therefore, to use the *change* in $\\mathbf{x}$ for our state variables. So we have to go back and redesign our state variables. \n",
      "\n",
      ">Please note this is a completely normal occurance in designing Kalman filters. The textbooks present examples like this as *fait accompli*, as if it is trivially obvious that the state variables needed to be velocities, not positions. Perhaps once you do enough of these problems it would be trivially obvious, but at that point why are you reading a textbook? I find myself reading through a presentation multiple times, trying to figure out why they made a choice, finally to realize that it is because of the consequences of something on the next page. My presentation is longer, but it reflects what actually happens when you design a filter. You make what seem reasonable design choices, and as you move forward you discover properties that require you to recast your earlier steps. As a result, I am going to somewhat abandon my **step 1**, **step 2**, etc.,  approach, since so many real problems are not quite that straightforward."
     ]
    },
    {
     "cell_type": "markdown",
     "metadata": {},
     "source": [
      "If our state variables contain the velocities of the robot and not the position then how do we track where the robot is? We can't. Kalman filters that are linearized in this fashion use what is called a *nominal trajectory* - i.e. you assume a position and track direction, and then apply the changes in velocity and acceleration to compute the changes in that trajectory. How could it be otherwise? Recall the graphic showing the intersection of the two range circles - there are two areas of intersection. Think of what this would look like if the two transmitters were very close to each other - the intersections would be two very long cresent shapes. This Kalman filter, as designed, has no way of knowing your true position from only distance measurements to the transmitters. Perhaps your mind is already leaping to ways of working around this problem. If so, stay engaged, as later sections and chapters will provide you with these techniques. Presenting the full solution all at once leads to more confusion than insight, in my opinion. \n",
      "\n",
      "So let's redesign our *state transition function*. We are assuming constant velocity and no acceleration, giving state equations of\n",
      "$$\n",
      "\\dot{x}' = \\dot{x} \\\\\n",
      "\\ddot{x}' = 0 \\\\\n",
      "\\dot{y}' = \\dot{y} \\\\\n",
      "\\dot{y}' = 0$$\n",
      "\n",
      "This gives us the the *state transition function* of\n",
      "\n",
      "$$\n",
      "\\mathbf{F} = \\begin{bmatrix}0 &1 & 0& 0\\\\0& 0& 0& 0\\\\0& 0& 0& 1\\\\ 0& 0& 0& 0\\end{bmatrix}$$\n",
      "\n",
      "A final complication comes from the measurements that we pass in. $\\mathbf{Hx}$ is now computing the *change* in the measurement from our nominal position, so the measurement that we pass in needs to be not the range to A and B, but the *change* in range from our measured range to our nomimal position. \n",
      "\n",
      "There is a lot here to take in, so let's work through the code bit by bit. First we will define a function to compute $\\frac{\\partial\\mathbf{h}}{\\partial\\mathbf{x}}$ for each time step."
     ]
    },
    {
     "cell_type": "code",
     "collapsed": false,
     "input": [
      "def H_of (pos, pos_A, pos_B):\n",
      "    \"\"\" Given the position of our object at 'pos' in 2D, and two transmitters\n",
      "    A and B at positions 'pos_A' and 'pos_B', return the partial derivative\n",
      "    of H\n",
      "    \"\"\"\n",
      "    \n",
      "    from math import sin, cos, atan2\n",
      "\n",
      "    theta_a = atan2(pos_a[1]-pos[1], pos_a[0] - pos[0])\n",
      "    theta_b = atan2(pos_b[1]-pos[1], pos_b[0] - pos[0])\n",
      "\n",
      "    return np.mat([[-cos(theta_a), 0, -sin(theta_a), 0],\n",
      "                   [-cos(theta_b), 0, -sin(theta_b), 0]])"
     ],
     "language": "python",
     "metadata": {},
     "outputs": [],
     "prompt_number": 114
    },
    {
     "cell_type": "markdown",
     "metadata": {},
     "source": [
      "Now we need to create our simulated sensor. "
     ]
    },
    {
     "cell_type": "code",
     "collapsed": false,
     "input": [
      "class DMESensor(object):\n",
      "    def __init__(self, pos_a, pos_b, noise_factor=1.0):\n",
      "        self.A = pos_a\n",
      "        self.B = pos_b\n",
      "        self.noise_factor = noise_factor\n",
      "        \n",
      "    def range_of (self, pos):\n",
      "        \"\"\" returns tuple containing noisy range data to A and B\n",
      "        given a position 'pos'\n",
      "        \"\"\"\n",
      "        \n",
      "        ra = math.sqrt((self.A[0] - pos[0])**2 + (self.A[1] - pos[1])**2)\n",
      "        rb = math.sqrt((self.B[0] - pos[0])**2 + (self.B[1] - pos[1])**2)\n",
      "        \n",
      "        return (ra + random.randn()*self.noise_factor, \n",
      "                rb + random.randn()*self.noise_factor)"
     ],
     "language": "python",
     "metadata": {},
     "outputs": [],
     "prompt_number": 115
    },
    {
     "cell_type": "markdown",
     "metadata": {},
     "source": [
      "Now let's write the code to compute $\\frac{\\partial\\mathbf{h}}{\\partial\\mathbf{x}}$."
     ]
    },
    {
     "cell_type": "code",
     "collapsed": false,
     "input": [
      "def dist(a,b):\n",
      "    return math.sqrt ((a[0]-b[0])**2 + (a[1]-b[1])**2)\n",
      "\n",
      "def H_of (pos, pos_A, pos_B):\n",
      "    dist_a = dist(pos, pos_A)\n",
      "    dist_b = dist(pos, pos_B)\n",
      "    \n",
      "    return np.mat([[0, (pos[0]-pos_A[0])/dist_a, 0, (pos[1]-pos_A[1])/dist_a],\n",
      "                   [0, (pos[0]-pos_B[0])/dist_b, 0, (pos[1]-pos_B[1])/dist_b]])\n",
      "    '''\n",
      "    return np.mat([[(pos[0]-pos_A[0])/dist_a, 0, (pos[1]-pos_A[1])/dist_a,0],\n",
      "                   [(pos[0]-pos_B[0])/dist_b, 0, (pos[1]-pos_B[1])/dist_b,0]])\n",
      "    '''"
     ],
     "language": "python",
     "metadata": {},
     "outputs": [],
     "prompt_number": 116
    },
    {
     "cell_type": "markdown",
     "metadata": {},
     "source": [
      "Finally, we are ready for the Kalman filter code. I will position the transmitters at x=-100 and 100, both with y=-20. This gives me enough space to get good triangulation from both as the robot moves. I will start the robot at (0,0) and move by (1,1) each time step. \n",
      "\n"
     ]
    },
    {
     "cell_type": "code",
     "collapsed": false,
     "input": [
      "import math\n",
      "\n",
      "pos_a = (100,-20)\n",
      "pos_b = (-100, -20)\n",
      "\n",
      "f1 = KalmanFilter(dim_x=4, dim_z=2)\n",
      "\n",
      "f1.F = np.mat ([[0, 1, 0, 0],\n",
      "                [0, 0, 0, 0],\n",
      "                [0, 0, 0, 1],\n",
      "                [0, 0, 0, 0]])\n",
      "\n",
      "f1.B = 0.\n",
      "\n",
      "f1.R *= 1.\n",
      "f1.Q *= .1\n",
      "\n",
      "f1.x = np.mat([1,0,1,0]).T\n",
      "f1.P = np.eye(4) * 5.\n",
      "\n",
      "# initialize storage and other variables for the run\n",
      "count = 30\n",
      "xs, ys = [],[]\n",
      "pxs, pys = [],[]\n",
      "\n",
      "# create the simulated sensor\n",
      "d = DMESensor (pos_a, pos_b, noise_factor=3.)\n",
      "\n",
      "# pos will contain our nominal position since the filter does not\n",
      "# maintain position.\n",
      "pos = [0,0]\n",
      "\n",
      "for i in range(count):\n",
      "    # move (1,1) each step, so just use i\n",
      "    pos = [i,i]\n",
      "    \n",
      "    # compute the difference in range between the nominal track and measured \n",
      "    # ranges\n",
      "    ra,rb = d.range_of(pos)\n",
      "    rx,ry = d.range_of((i+f1.x[0,0], i+f1.x[2,0]))\n",
      "    z = np.mat([[ra-rx],[rb-ry]])\n",
      "\n",
      "    # compute linearized H for this time step\n",
      "    f1.H = H_of (pos, pos_a, pos_b)\n",
      "\n",
      "    # store stuff so we can plot it later\n",
      "    xs.append (f1.x[0,0]+i)\n",
      "    ys.append (f1.x[2,0]+i)\n",
      "    pxs.append (pos[0])\n",
      "    pys.append(pos[1])\n",
      "    \n",
      "    # perform the Kalman filter steps\n",
      "    f1.predict ()\n",
      "    f1.update(z)\n",
      "\n",
      "\n",
      "p1, = plt.plot (xs, ys, 'r--')\n",
      "p2, = plt.plot (pxs, pys)\n",
      "plt.legend([p1,p2], ['filter', 'ideal'], 2)\n",
      "plt.show()\n",
      "\n"
     ],
     "language": "python",
     "metadata": {},
     "outputs": [
      {
       "metadata": {},
       "output_type": "display_data",
       "png": "[encoded data removed]",
       "text": [
        "<matplotlib.figure.Figure at 0x4a48d50>"
       ]
      }
     ],
     "prompt_number": 117
    },
    {
     "cell_type": "heading",
     "level": 2,
     "metadata": {},
     "source": [
      "Linearizing the Kalman Filter"
     ]
    },
    {
     "cell_type": "markdown",
     "metadata": {},
     "source": [
      "Now that we have seen an example of linearizing the Kalman filter we are in a position to better understand the math. \n",
      "\n",
      "We start by assuming some function $\\mathbf f$"
     ]
    },
    {
     "cell_type": "code",
     "collapsed": false,
     "input": [],
     "language": "python",
     "metadata": {},
     "outputs": [],
     "prompt_number": 117
    },
    {
     "cell_type": "heading",
     "level": 2,
     "metadata": {},
     "source": [
      "Tracking a Ball"
     ]
    },
    {
     "cell_type": "heading",
     "level": 3,
     "metadata": {},
     "source": [
      "Physics of a Ball in a Vacuum"
     ]
    },
    {
     "cell_type": "markdown",
     "metadata": {},
     "source": [
      "Now let's turn our attention to a situation where the physics of the object that we are tracking is constrained. A ball thrown in a vacuum must obey Newtonian laws. In a constant gravitational field it will travel in a parabola. I will assume you are familiar with the derivation of the formula:\n",
      "\n",
      "$$\n",
      "\\begin{aligned}\n",
      "y &= \\frac{g}{2}t^2 + v_{y0} t + y_0 \\\\\n",
      "x &= v_{x0} t + x_0\n",
      "\\end{aligned}\n",
      "$$\n",
      "\n",
      "where $g$ is the gravational constant, $t$ is time, $v_{x0}$ and $v_{y0}$ are the initial velocities in the x and y plane. If the ball is thrown with an initial velocity of $v$ at angle $\\theta$ above the horizon, we can compute $v_{x0}$ and $v_{y0}$ as\n",
      "\n",
      "$$\n",
      "\\begin{aligned}\n",
      "v_{x0} = v \\cos{\\theta} \\\\\n",
      "v_{y0} = v \\sin{\\theta}\n",
      "\\end{aligned}\n",
      "$$\n"
     ]
    },
    {
     "cell_type": "markdown",
     "metadata": {},
     "source": [
      "We can simulate this with the following code. I added a way to specify the initial angle in either radians or degrees, and a noise scaling factor which will be useful when we test our Kalman filter. "
     ]
    },
    {
     "cell_type": "code",
     "collapsed": false,
     "input": [
      "from math import cos, tan, radians\n",
      "from numpy.random import randn\n",
      "\n",
      "def sec (x):\n",
      "    return 1. / cos(x)\n",
      "\n",
      "class BallTrajectory2D(object):\n",
      "    def __init__(self, v0, angle_radians=0., x0=0., angle_degrees=None, noise_scale=0.0):\n",
      "        if angle_degrees is not None:\n",
      "            self.theta = radians(angle_degrees)\n",
      "        else:\n",
      "            self.theta = angle_radians\n",
      "            \n",
      "        self.x = self.x0 = x0\n",
      "        self.y = self.y0 = 0\n",
      "        \n",
      "        self.v0_y = v0 * sin(self.theta)\n",
      "        self.v0_x = v0 * cos(self.theta)\n",
      "        \n",
      "        self.noise_scale = noise_scale\n",
      "        \n",
      "    def update(self, t):\n",
      "        self.x = self.v0_x*t + self.x0\n",
      "        self.y = -0.5*9.8*t**2 + self.v0_y*t + self.y0\n",
      "        \n",
      "        self.x += randn() * self.noise_scale\n",
      "        self.y += randn() * self.noise_scale\n",
      "        return (self.x, self.y)"
     ],
     "language": "python",
     "metadata": {},
     "outputs": [],
     "prompt_number": 118
    },
    {
     "cell_type": "markdown",
     "metadata": {},
     "source": [
      "So to create a trajectory with a velocity of $60 \\frac{m}{s}$ and an angle of $65^\\circ$ we would write:\n",
      "\n",
      "    traj = BallTrajectory2D (60, angle_degrees=65)\n",
      "    \n",
      "and then call $\\verb,update(t),$ for each time step. For example:"
     ]
    },
    {
     "cell_type": "code",
     "collapsed": false,
     "input": [
      "traj = BallTrajectory2D (60, angle_degrees=65)\n",
      "t = 0.0\n",
      "while t >= 0 and traj.y >= 0:\n",
      "    traj.update(t)\n",
      "    plt.scatter(traj.x, traj.y)\n",
      "    t += 0.1\n",
      "plt.axis('equal')\n",
      "plt.show()"
     ],
     "language": "python",
     "metadata": {},
     "outputs": [
      {
       "metadata": {},
       "output_type": "display_data",
       "png": "[encoded data removed]",
       "text": [
        "<matplotlib.figure.Figure at 0x3878390>"
       ]
      }
     ],
     "prompt_number": 119
    },
    {
     "cell_type": "markdown",
     "metadata": {},
     "source": [
      "If you are not completely familiar with this math I suggest playing with the velocity and angle parameters to see how changing each affects the trajectory. "
     ]
    },
    {
     "cell_type": "heading",
     "level": 3,
     "metadata": {},
     "source": [
      "Designing the Kalman Filter"
     ]
    },
    {
     "cell_type": "markdown",
     "metadata": {},
     "source": [
      "Our assumption is that the ball is travelling in a vacuum, so the velocity in x is a constant, and the acceleration in y is solely due to the gravitational constant $g$. The Newtonian equations for $x$ and $y$ in terms of $\\Delta t$ are:\n",
      "\n",
      "$$\\begin{aligned}\n",
      "y_t &= \\frac{g}{2} {\\Delta t}^2 + v_{y(t-1)} {\\Delta t} + y_{t-1} \\\\\n",
      "v_{yt} &= g {\\Delta t} + v_{y(t-1)} \\\\\n",
      "\\\\\n",
      "x_t &=  v_{x(t-1)} {\\Delta t} \\\\\n",
      "v_{xt} &= v_{x(t-1)}\n",
      "\\end{aligned}\n",
      "$$\n",
      "\n",
      "We need to incorporate acceleration for $y$ into the Kalman filter, but not for $x$. This suggests the following state variables.\n",
      "\n",
      "$$\n",
      "\\mathbf{x} = \n",
      "\\begin{bmatrix}\n",
      "x \\\\\n",
      "\\dot{x} \\\\\n",
      "y \\\\\n",
      "\\dot{y} \\\\\n",
      "\\ddot{y}\n",
      "\\end{bmatrix}\n",
      "$$"
     ]
    },
    {
     "cell_type": "code",
     "collapsed": false,
     "input": [
      "def ball_filter(dt,R=1., Q = 0.1):\n",
      "    f1 = KalmanFilter(dim_x=5, dim_z=2)\n",
      "    g = -9.8\n",
      "\n",
      "    f1.F = np.mat ([[1., dt, 0,  0,       0],\n",
      "                    [0,  1., 0,  0,       0],\n",
      "                    [0,  0, 1., dt, dt*dt*g],\n",
      "                    [0,  0, 0,  1.,      dt],\n",
      "                    [0,  0, 0,  0,       1.]])\n",
      "\n",
      "    f1.H = np.mat([[1,0,0,0,0],\n",
      "                   [0,0,0,0,0],\n",
      "                   [0,0,1,0,0],\n",
      "                   [0,0,0,0,0],\n",
      "                   [0,0,0,0,0]])\n",
      "\n",
      "\n",
      "    f1.R = np.mat(np.eye(5)) * R \n",
      "    \n",
      "    f1.Q = np.zeros((5,5))\n",
      "    f1.Q[4,4] = Q\n",
      "    f1.x = np.mat([0, 0 , 0, 0, 0]).T\n",
      "    f1.P = np.eye(5) * 5.\n",
      "    f1.B = 0.\n",
      "    f1.u = 0\n",
      "    \n",
      "    return f1"
     ],
     "language": "python",
     "metadata": {},
     "outputs": [],
     "prompt_number": 120
    },
    {
     "cell_type": "code",
     "collapsed": false,
     "input": [
      "def plot_ball_filter (traj):\n",
      "    xs, ys = [],[]\n",
      "    pxs, pys = [],[]\n",
      "        \n",
      "    for z in zs:\n",
      "        m = np.mat([z[0], 0, z[1], 0, 0]).T\n",
      "\n",
      "        f1.predict ()\n",
      "        f1.update (m)\n",
      "\n",
      "        xs.append (f1.x[0,0])\n",
      "        ys.append (f1.x[2,0])\n",
      "        pxs.append (z[0])\n",
      "        pys.append(z[1])\n",
      "        \n",
      "        if z[1] < 0:\n",
      "            break;\n",
      "\n",
      "    p1, = plt.plot (xs, ys, 'r--')\n",
      "    p2, = plt.plot (pxs, pys)\n",
      "    plt.axis('equal')\n",
      "    plt.legend([p1,p2], ['filter', 'measurement'], 2)\n",
      "    plt.show()"
     ],
     "language": "python",
     "metadata": {},
     "outputs": [],
     "prompt_number": 121
    },
    {
     "cell_type": "code",
     "collapsed": false,
     "input": [
      "dt = 0.1\n",
      "f1 = ball_filter(dt,R=0.1, Q=0.1)\n",
      "\n",
      "traj = BallTrajectory2D (20., angle_degrees=60., noise_scale=0.0)\n",
      "zs = [traj.update(t) for t in np.arange(dt,100,dt)]\n",
      "\n",
      "plot_ball_filter (zs)"
     ],
     "language": "python",
     "metadata": {},
     "outputs": [
      {
       "metadata": {},
       "output_type": "display_data",
       "png": "[encoded data removed]",
       "text": [
        "<matplotlib.figure.Figure at 0x4a5d210>"
       ]
      }
     ],
     "prompt_number": 122
    },
    {
     "cell_type": "markdown",
     "metadata": {},
     "source": [
      "Here, we can see that the filter tracks the trajectory quite closely, but not perfectly. Let's look at the effect of a slower and faster initial velocity."
     ]
    },
    {
     "cell_type": "code",
     "collapsed": false,
     "input": [
      "dt = 0.1\n",
      "f1 = ball_filter(dt,R=.1, Q=.1)\n",
      "traj = BallTrajectory2D (10., angle_degrees=60., noise_scale=0.0)\n",
      "zs = [traj.update(t) for t in np.arange(dt,100,dt)]\n",
      "plot_ball_filter (zs)\n",
      "\n",
      "f1 = ball_filter(dt, R=0.1, Q=0.1)\n",
      "traj = BallTrajectory2D (60., angle_degrees=60., noise_scale=0.0)\n",
      "zs = [traj.update(t) for t in np.arange(dt,100,dt)]\n",
      "plot_ball_filter (zs)"
     ],
     "language": "python",
     "metadata": {},
     "outputs": [
      {
       "metadata": {},
       "output_type": "display_data",
       "png": "[encoded data removed]",
       "text": [
        "<matplotlib.figure.Figure at 0x3e38dd0>"
       ]
      },
      {
       "metadata": {},
       "output_type": "display_data",
       "png": "[encoded data removed]",
       "text": [
        "<matplotlib.figure.Figure at 0x43705d0>"
       ]
      }
     ],
     "prompt_number": 123
    },
    {
     "cell_type": "markdown",
     "metadata": {},
     "source": [
      "Can you explain what is happening here?\n",
      "\n",
      "When the initial velocity is low, the change in velocity per time period is large compared to the velocity. In the physical world the ball's velocity is changing continuously, but we are imposing a step function on it because we are stepping by $0.1s$. This means our model of the ball does not exactly match the true behavior of the ball, and so the Kalman filter will not exactly predict the ball's behavior. A slow initial velcocity exaberates that  \n",
      "\n",
      "**author's note** complete this"
     ]
    },
    {
     "cell_type": "markdown",
     "metadata": {},
     "source": [
      "So we seem to be doing a good job of tracking the ball. What happens if we inject noise?"
     ]
    },
    {
     "cell_type": "code",
     "collapsed": false,
     "input": [
      "dt = 0.1\n",
      "f1 = ball_filter(dt, R=.16, Q=0.0)\n",
      "\n",
      "traj = BallTrajectory2D (40., angle_degrees=60., noise_scale=0.4)\n",
      "zs = [traj.update(t) for t in np.arange(dt,100,dt)]\n",
      "plot_ball_filter (zs)"
     ],
     "language": "python",
     "metadata": {},
     "outputs": [
      {
       "metadata": {},
       "output_type": "display_data",
       "png": "[encoded data removed]",
       "text": [
        "<matplotlib.figure.Figure at 0x4a2e4d0>"
       ]
      }
     ],
     "prompt_number": 124
    },
    {
     "cell_type": "markdown",
     "metadata": {},
     "source": [
      "You can see that the filter follows an almost perfect parabola despite the noise in the signal. Because I know the noise characteristic of my filter, $\\sigma=0.4$, I was able to specify the variance as $\\mathbf{R} = \\sigma^2=0.16$."
     ]
    },
    {
     "cell_type": "markdown",
     "metadata": {},
     "source": [
      "Now let's make this more realistic. We don't have much call to track balls thrown on airless planets. On Earth, balls are subject to the effects of the atmosphere. \n",
      "\n",
      "blah blah\n"
     ]
    },
    {
     "cell_type": "code",
     "collapsed": false,
     "input": [
      "import baseball\n",
      "dt = 0.01\n",
      "f1 = ball_filter(dt, R=1.16, Q=5.5)\n",
      "\n",
      "x,y = baseball.compute_trajectory(v_0_mph = 90., theta=65., dt=dt)\n",
      "zs = zip (x,y)\n",
      "plot_ball_filter (zs)"
     ],
     "language": "python",
     "metadata": {},
     "outputs": [
      {
       "metadata": {},
       "output_type": "display_data",
       "png": "[encoded data removed]",
       "text": [
        "<matplotlib.figure.Figure at 0x3369d10>"
       ]
      }
     ],
     "prompt_number": 125
    },
    {
     "cell_type": "code",
     "collapsed": false,
     "input": [
      "def ball_filter6(dt,R=1., Q = 0.1):\n",
      "    f1 = KalmanFilter(dim=6)\n",
      "    g = -9.8\n",
      "    g=1\n",
      "\n",
      "    f1.F = np.mat ([[1., dt, dt**2,  0,       0,  0],\n",
      "                    [0,  1., dt,     0,       0,  0],\n",
      "                    [0,  0,  1.,     0,       0,  0],\n",
      "                    [0,  0,  0.,    1., dt, dt*dt*g],\n",
      "                    [0,  0,  0,      0, 1.,      dt],\n",
      "                    [0,  0,  0,      0, 0.,      1.]])\n",
      "\n",
      "    f1.H = np.mat([[1,0,0,0,0,0],\n",
      "                   [0,0,0,0,0,0],\n",
      "                   [0,0,0,0,0,0],\n",
      "                   [0,0,0,1,0,0],\n",
      "                   [0,0,0,0,0,0],\n",
      "                   [0,0,0,0,0,0]])\n",
      "\n",
      "\n",
      "    f1.R = np.mat(np.eye(6)) * R \n",
      "    \n",
      "    f1.Q = np.zeros((6,6))\n",
      "    f1.Q[2,2] = Q    \n",
      "    f1.Q[5,5] = Q\n",
      "    f1.x = np.mat([0, 0 , 0, 0, 0, 0]).T\n",
      "    f1.P = np.eye(6) * 50.\n",
      "    f1.B = 0.\n",
      "    f1.u = 0\n",
      "    \n",
      "    return f1"
     ],
     "language": "python",
     "metadata": {},
     "outputs": [],
     "prompt_number": 126
    },
    {
     "cell_type": "code",
     "collapsed": false,
     "input": [
      "def plot_ball_filter6 (zs):\n",
      "    xs, ys = [],[]\n",
      "    pxs, pys = [],[]\n",
      "        \n",
      "    for i,z in enumerate(zs):\n",
      "        m = np.mat([z[0], 0, 0, z[1], 0, 0]).T\n",
      "\n",
      "        f1.predict ()\n",
      "        f1.update (m)\n",
      "\n",
      "        xs.append (f1.x[0,0])\n",
      "        ys.append (f1.x[3,0])\n",
      "        pxs.append (z[0])\n",
      "        pys.append(z[1])\n",
      "        \n",
      "        if i > 0 and z[1] < 0:\n",
      "            break;\n",
      "\n",
      "    p1, = plt.plot (xs, ys, 'r--')\n",
      "    p2, = plt.plot (pxs, pys)\n",
      "    plt.axis('equal')\n",
      "    plt.legend([p1,p2], ['filter', 'measurement'], 2)\n",
      "    plt.show()"
     ],
     "language": "python",
     "metadata": {},
     "outputs": [],
     "prompt_number": 127
    },
    {
     "cell_type": "code",
     "collapsed": false,
     "input": [
      "dt = 0.1\n",
      "noise = 0.2\n",
      "f1 = ball_filter6(dt, R=.16, Q=0.1)\n",
      "\n",
      "x,y = baseball.compute_trajectory(v_0_mph = 90., theta=65., dt=dt)\n",
      "znoise = [(i+randn()*noise,j+randn()*noise) for (i,j) in zip(x,y)]\n",
      "plot_ball_filter6 (znoise)"
     ],
     "language": "python",
     "metadata": {},
     "outputs": [
      {
       "ename": "TypeError",
       "evalue": "__init__() got an unexpected keyword argument 'dim'",
       "output_type": "pyerr",
       "traceback": [
        "\u001b[1;31m---------------------------------------------------------------------------\u001b[0m\n\u001b[1;31mTypeError\u001b[0m                                 Traceback (most recent call last)",
        "\u001b[1;32m<ipython-input-128-8b545446a198>\u001b[0m in \u001b[0;36m<module>\u001b[1;34m()\u001b[0m\n\u001b[0;32m      1\u001b[0m \u001b[0mdt\u001b[0m \u001b[1;33m=\u001b[0m \u001b[1;36m0.1\u001b[0m\u001b[1;33m\u001b[0m\u001b[0m\n\u001b[0;32m      2\u001b[0m \u001b[0mnoise\u001b[0m \u001b[1;33m=\u001b[0m \u001b[1;36m0.2\u001b[0m\u001b[1;33m\u001b[0m\u001b[0m\n\u001b[1;32m----> 3\u001b[1;33m \u001b[0mf1\u001b[0m \u001b[1;33m=\u001b[0m \u001b[0mball_filter6\u001b[0m\u001b[1;33m(\u001b[0m\u001b[0mdt\u001b[0m\u001b[1;33m,\u001b[0m \u001b[0mR\u001b[0m\u001b[1;33m=\u001b[0m\u001b[1;36m.16\u001b[0m\u001b[1;33m,\u001b[0m \u001b[0mQ\u001b[0m\u001b[1;33m=\u001b[0m\u001b[1;36m0.1\u001b[0m\u001b[1;33m)\u001b[0m\u001b[1;33m\u001b[0m\u001b[0m\n\u001b[0m\u001b[0;32m      4\u001b[0m \u001b[1;33m\u001b[0m\u001b[0m\n\u001b[0;32m      5\u001b[0m \u001b[0mx\u001b[0m\u001b[1;33m,\u001b[0m\u001b[0my\u001b[0m \u001b[1;33m=\u001b[0m \u001b[0mbaseball\u001b[0m\u001b[1;33m.\u001b[0m\u001b[0mcompute_trajectory\u001b[0m\u001b[1;33m(\u001b[0m\u001b[0mv_0_mph\u001b[0m \u001b[1;33m=\u001b[0m \u001b[1;36m90.\u001b[0m\u001b[1;33m,\u001b[0m \u001b[0mtheta\u001b[0m\u001b[1;33m=\u001b[0m\u001b[1;36m65.\u001b[0m\u001b[1;33m,\u001b[0m \u001b[0mdt\u001b[0m\u001b[1;33m=\u001b[0m\u001b[0mdt\u001b[0m\u001b[1;33m)\u001b[0m\u001b[1;33m\u001b[0m\u001b[0m\n",
        "\u001b[1;32m<ipython-input-126-5151a7e00136>\u001b[0m in \u001b[0;36mball_filter6\u001b[1;34m(dt, R, Q)\u001b[0m\n\u001b[0;32m      1\u001b[0m \u001b[1;32mdef\u001b[0m \u001b[0mball_filter6\u001b[0m\u001b[1;33m(\u001b[0m\u001b[0mdt\u001b[0m\u001b[1;33m,\u001b[0m\u001b[0mR\u001b[0m\u001b[1;33m=\u001b[0m\u001b[1;36m1.\u001b[0m\u001b[1;33m,\u001b[0m \u001b[0mQ\u001b[0m \u001b[1;33m=\u001b[0m \u001b[1;36m0.1\u001b[0m\u001b[1;33m)\u001b[0m\u001b[1;33m:\u001b[0m\u001b[1;33m\u001b[0m\u001b[0m\n\u001b[1;32m----> 2\u001b[1;33m     \u001b[0mf1\u001b[0m \u001b[1;33m=\u001b[0m \u001b[0mKalmanFilter\u001b[0m\u001b[1;33m(\u001b[0m\u001b[0mdim\u001b[0m\u001b[1;33m=\u001b[0m\u001b[1;36m6\u001b[0m\u001b[1;33m)\u001b[0m\u001b[1;33m\u001b[0m\u001b[0m\n\u001b[0m\u001b[0;32m      3\u001b[0m     \u001b[0mg\u001b[0m \u001b[1;33m=\u001b[0m \u001b[1;33m-\u001b[0m\u001b[1;36m9.8\u001b[0m\u001b[1;33m\u001b[0m\u001b[0m\n\u001b[0;32m      4\u001b[0m     \u001b[0mg\u001b[0m\u001b[1;33m=\u001b[0m\u001b[1;36m1\u001b[0m\u001b[1;33m\u001b[0m\u001b[0m\n\u001b[0;32m      5\u001b[0m \u001b[1;33m\u001b[0m\u001b[0m\n",
        "\u001b[1;31mTypeError\u001b[0m: __init__() got an unexpected keyword argument 'dim'"
       ]
      }
     ],
     "prompt_number": 128
    },
    {
     "cell_type": "markdown",
     "metadata": {},
     "source": [
      "look at P"
     ]
    },
    {
     "cell_type": "code",
     "collapsed": false,
     "input": [
      "print (f1.P)"
     ],
     "language": "python",
     "metadata": {},
     "outputs": []
    },
    {
     "cell_type": "markdown",
     "metadata": {},
     "source": [
      "now what if some measurements missing blah blah\n"
     ]
    },
    {
     "cell_type": "code",
     "collapsed": false,
     "input": [
      "def plot_ball_filter6_miss (zs, miss_ratio=0.2):\n",
      "    xs, ys = [],[]\n",
      "    pxs, pys = [],[]\n",
      "        \n",
      "    for i,z in enumerate(zs):\n",
      "        m = np.mat([z[0], 0, 0, z[1], 0, 0]).T\n",
      "\n",
      "        f1.predict ()\n",
      "        print (i, f1.x)   \n",
      "        \n",
      "        if i < 20 or i > 40:\n",
      "        #if random.rand() >= miss_ratio:\n",
      "            f1.update (m)\n",
      "\n",
      "\n",
      "        xs.append (f1.x[0,0])\n",
      "        ys.append (f1.x[3,0])\n",
      "        pxs.append (z[0])\n",
      "        pys.append(z[1])\n",
      "        \n",
      "        if i > 0 and z[1] < 0:\n",
      "            break;\n",
      "\n",
      "    p1, = plt.plot (xs, ys, 'r--')\n",
      "    p2, = plt.plot (pxs, pys)\n",
      "    plt.axis('equal')\n",
      "    plt.legend([p1,p2], ['filter', 'measurement'], 2)\n",
      "    plt.show()"
     ],
     "language": "python",
     "metadata": {},
     "outputs": []
    },
    {
     "cell_type": "code",
     "collapsed": false,
     "input": [
      "dt = 0.1\n",
      "noise = 0.0\n",
      "f1 = ball_filter6(dt, R=.16, Q=0.1)\n",
      "\n",
      "x,y = baseball.compute_trajectory(v_0_mph = 90., theta=65., dt=dt)\n",
      "znoise = [(i+randn()*noise,j+randn()*noise) for (i,j) in zip(x,y)]\n",
      "plot_ball_filter6_miss (znoise)"
     ],
     "language": "python",
     "metadata": {},
     "outputs": []
    }
   ],
   "metadata": {}
  }
 ]
}