{
 "metadata": {
  "name": "",
  "signature": "sha256:5a9da1f267be2f09283af1e054ef3f93f3035ff422ae42ef0d3e1c035117a261"
 },
 "nbformat": 3,
 "nbformat_minor": 0,
 "worksheets": [
  {
   "cells": [
    {
     "cell_type": "markdown",
     "metadata": {},
     "source": [
      "<center>[Kalman Filters and Random Signals in Python](http://nbviewer.ipython.org/urls/raw.github.com/rlabbe/Kalman-Filters-and-Random-Signals-in-Python/master/toc.ipynb)</center>\n",
      "\n",
      "Table of Contents\n",
      "-----\n",
      "* [**Preface**](http://nbviewer.ipython.org/urls/raw.github.com/rlabbe/Kalman-Filters-and-Random-Signals-in-Python/master/Preface.ipynb)\n",
      "\n",
      "    Motivation for the book. Where to download, how to use.\n",
      "\n",
      "\n",
      "* [**Introduction**](http://nbviewer.ipython.org/urls/raw.github.com/rlabbe/Kalman-Filters-and-Random-Signals-in-Python/master/Introduction.ipynb)\n",
      " \n",
      "    Introduction to the Kalman filter. Explanation of the idea behind this book.\n",
      "\n",
      "\n",
      "* [**Chapter 1: The g-h Filter**](http://nbviewer.ipython.org/urls/raw.github.com/rlabbe/Kalman-Filters-and-Random-Signals-in-Python/master/g-h_filter.ipynb)\n",
      "\n",
      "    Intuitive introduction to the g-h filter, which is a family of filters that includes the Kalman filter. Not filler - once you understand this chapter you will understand the concepts behind the Kalman filter. \n",
      "\n",
      "\n",
      "* [**Chapter 2: The Discrete Bayes Filter**](http://nbviewer.ipython.org/urls/raw.github.com/rlabbe/Kalman-Filters-and-Random-Signals-in-Python/master/histogram_filter.ipynb)\n",
      "\n",
      "    Introduces the Discrete Bayes Filter. From this you will learn the probabilistic reasoning that underpins the Kalman filter in an easy to digest form.\n",
      "    \n",
      "\n",
      "* [**Chapter 3: Gaussian Probabilities**](http://nbviewer.ipython.org/urls/raw.github.com/rlabbe/Kalman-Filters-and-Random-Signals-in-Python/master/Gaussians.ipynb)\n",
      "\n",
      "    Introduces using Gaussians to represent beliefs. Gaussians allow us to implement the algorithms used in the Discrete Bayes Filter to work in continuous domains.\n",
      "\n",
      "\n",
      "* [**Chapter 4: One Dimensional Kalman Filters**](http://nbviewer.ipython.org/urls/raw.github.com/rlabbe/Kalman-Filters-and-Random-Signals-in-Python/master/Kalman_Filters.ipynb)\n",
      "\n",
      "    Implements a Kalman filter by modifying the Discrete Bayesian Filter to use Gaussians. This is a full featured Kalman filter, albeit only useful for 1D problems. \n",
      "    \n",
      "\n",
      "* [**Chapter 5: Multidimensional Kalman Filter**](http://nbviewer.ipython.org/urls/raw.github.com/rlabbe/Kalman-Filters-and-Random-Signals-in-Python/master/Multidimensional_Kalman_Filters.ipynb)\n",
      "\n",
      "    We extend the Kalman filter developed in the previous chapter to the full, generalized filter. \n"
     ]
    }
   ],
   "metadata": {}
  }
 ]
}