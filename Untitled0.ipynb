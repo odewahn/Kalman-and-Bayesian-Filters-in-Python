{
 "metadata": {
  "name": "",
  "signature": "sha256:842d8c88675001eadf27bb53d68b649129f5e3c560cf8b43ccfab1ceb5f93bec"
 },
 "nbformat": 3,
 "nbformat_minor": 0,
 "worksheets": [
  {
   "cells": [
    {
     "cell_type": "code",
     "collapsed": false,
     "input": [
      "#format the book\n",
      "%matplotlib inline\n",
      "from __future__ import division, print_function\n",
      "import matplotlib.pyplot as plt\n",
      "import book_format\n",
      "book_format.load_style()\n",
      "%install_ext https://raw.github.com/dpsanders/ipython_extensions/master/section_numbering/secnum.py\n",
      "%load_ext secnum\n",
      "%secnum"
     ],
     "language": "python",
     "metadata": {},
     "outputs": [
      {
       "output_type": "stream",
       "stream": "stdout",
       "text": [
        "Installed secnum.py. To use it, type:\n",
        "  %load_ext secnum\n",
        "Downloading https://raw.github.com/dpsanders/ipython_extensions/master/section_numbering/secnum.js to /home/rlabbe/.ipython/extensions/secnum.js\n"
       ]
      },
      {
       "javascript": [
        "console.log(\"Section numbering...\");\n",
        "\n",
        "function number_sections(threshold) {\n",
        "\n",
        "  var h1_number = 0;\n",
        "  var h2_number = 0;\n",
        "\n",
        "  if (threshold === undefined) {\n",
        "    threshold = 2;  // does nothing so far\n",
        "  }\n",
        "\n",
        "  var cells = IPython.notebook.get_cells();\n",
        "  \n",
        "  for (var i=0; i < cells.length; i++) {\n",
        "\n",
        "    var cell = cells[i];\n",
        "    if (cell.cell_type !== 'heading') continue;\n",
        "    \n",
        "    var level = cell.level;\n",
        "    if (level > threshold) continue;\n",
        "    \n",
        "    if (level === 1) {\n",
        "        \n",
        "        h1_number ++;\n",
        "        var h1_element = cell.element.find('h1');\n",
        "        var h1_html = h1_element.html();\n",
        "        \n",
        "        console.log(\"h1_html: \" + h1_html);\n",
        "\n",
        "        var patt = /^[0-9]+\\.\\s(.*)/;   // section number at start of string\n",
        "        var title = h1_html.match(patt);  // just the title\n",
        "\n",
        "        if (title != null) {  \n",
        "          h1_element.html(h1_number + \". \" + title[1]);\n",
        "        }\n",
        "        else {\n",
        "          h1_element.html(h1_number + \". \" + h1_html);\n",
        "        }\n",
        "        \n",
        "        h2_number = 0;\n",
        "        \n",
        "    }\n",
        "    \n",
        "    if (level === 2) {\n",
        "    \n",
        "        h2_number ++;\n",
        "        \n",
        "        var h2_element = cell.element.find('h2');\n",
        "        var h2_html = h2_element.html();\n",
        "\n",
        "        console.log(\"h2_html: \" + h2_html);\n",
        "\n",
        "        \n",
        "        var patt = /^[0-9]+\\.[0-9]+\\.\\s/;\n",
        "        var result = h2_html.match(patt);\n",
        "\n",
        "        if (result != null) {\n",
        "          h2_html = h2_html.replace(result, \"\");\n",
        "        }\n",
        "\n",
        "        h2_element.html(h1_number + \".\" + h2_number + \". \" + h2_html);\n",
        "        \n",
        "    }\n",
        "    \n",
        "  }\n",
        "  \n",
        "}\n",
        "\n",
        "number_sections();\n",
        "\n",
        "// $([IPython.evnts]).on('create.Cell', number_sections);\n",
        "\n",
        "$([IPython.events]).on('selected_cell_type_changed.Notebook', number_sections);\n",
        "\n"
       ],
       "metadata": {},
       "output_type": "display_data"
      }
     ],
     "prompt_number": 22
    },
    {
     "cell_type": "heading",
     "level": 1,
     "metadata": {},
     "source": [
      "Fuck me I am great"
     ]
    },
    {
     "cell_type": "markdown",
     "metadata": {},
     "source": [
      "this test\n"
     ]
    },
    {
     "cell_type": "markdown",
     "metadata": {},
     "source": []
    },
    {
     "cell_type": "heading",
     "level": 1,
     "metadata": {},
     "source": [
      "One"
     ]
    },
    {
     "cell_type": "markdown",
     "metadata": {},
     "source": [
      "\n",
      "# One\n",
      ">this is a big test asdf asdf asd fasd fasd;fj sadf;lkjas df;kasdj f;lasdkfj asd;lkfj asd;lkfj asd;lfkja sdf;ojasd f;lkasdj f;alsdkfj das;lkfjasdf; asdfkj; asf\n",
      "\n",
      "\n",
      "Here is some text.\n",
      "\n",
      "    def this_is_code():\n",
      "       pass\n",
      "       </code>\n",
      "       \n",
      "       \n",
      "*italic*\n",
      "**bold**\n",
      "\n",
      "##Two\n",
      "###Three\n",
      "####Four\n",
      "#####Five\n",
      "######Six"
     ]
    },
    {
     "cell_type": "code",
     "collapsed": false,
     "input": [
      "xmax=500"
     ],
     "language": "python",
     "metadata": {},
     "outputs": [],
     "prompt_number": 14
    },
    {
     "cell_type": "code",
     "collapsed": false,
     "input": [
      "from numpy import *\n",
      "\n",
      "xs = [x for x in arange(0,xmax,0.1)]\n",
      "ys = [x**1.3 for x in xs]\n",
      "\n",
      "plt.plot(xs,sin(radians(ys)))\n",
      "plt.ylim((-2,2))\n",
      "plt.show()"
     ],
     "language": "python",
     "metadata": {},
     "outputs": [
      {
       "metadata": {},
       "output_type": "display_data",
       "png": "[encoded data removed]",
       "text": [
        "<matplotlib.figure.Figure at 0x242aa90>"
       ]
      }
     ],
     "prompt_number": 20
    },
    {
     "cell_type": "code",
     "collapsed": false,
     "input": [
      "xmax=50\n",
      "print (xs[0:5])"
     ],
     "language": "python",
     "metadata": {},
     "outputs": [
      {
       "output_type": "stream",
       "stream": "stdout",
       "text": [
        "[0.0, 0.10000000000000001, 0.20000000000000001, 0.30000000000000004, 0.40000000000000002]\n"
       ]
      }
     ],
     "prompt_number": 21
    },
    {
     "cell_type": "markdown",
     "metadata": {},
     "source": [
      "This is where I explain the magic of how xs contains ....\n",
      "blah\n",
      "\n",
      "##header"
     ]
    },
    {
     "cell_type": "heading",
     "level": 3,
     "metadata": {},
     "source": [
      "Test"
     ]
    },
    {
     "cell_type": "markdown",
     "metadata": {},
     "source": [
      "#One\n",
      "test\n",
      "\n",
      "## two\n",
      "test\n",
      "\n",
      "## two again\n",
      "\n",
      "and more text here\n"
     ]
    },
    {
     "cell_type": "code",
     "collapsed": false,
     "input": [
      "import sys\n",
      "import os\n"
     ],
     "language": "python",
     "metadata": {},
     "outputs": [],
     "prompt_number": 2
    }
   ],
   "metadata": {}
  }
 ]
}